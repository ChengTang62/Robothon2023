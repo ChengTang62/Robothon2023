{
 "cells": [
  {
   "cell_type": "code",
   "execution_count": 1,
   "metadata": {},
   "outputs": [
    {
     "name": "stdout",
     "output_type": "stream",
     "text": [
      "publishing and latching message for 3.0 seconds\r\n"
     ]
    }
   ],
   "source": [
    "!rostopic pub -1 /franka_control/error_recovery/goal franka_msgs/ErrorRecoveryActionGoal \"{}\""
   ]
  },
  {
   "cell_type": "code",
   "execution_count": 1,
   "metadata": {},
   "outputs": [
    {
     "name": "stdout",
     "output_type": "stream",
     "text": [
      "============ Planning frame: panda_link0\n",
      "================== Initialization Complete\n"
     ]
    }
   ],
   "source": [
    "import main\n",
    "import importlib\n",
    "importlib.reload(main)\n",
    "\n",
    "ts = main.TaskSequence()"
   ]
  },
  {
   "cell_type": "code",
   "execution_count": null,
   "metadata": {},
   "outputs": [],
   "source": [
    "ts.rc.cart_to_plugin()"
   ]
  },
  {
   "cell_type": "code",
   "execution_count": null,
   "metadata": {},
   "outputs": [],
   "source": [
    "get_feature_coor(self, feature, obj):"
   ]
  },
  {
   "cell_type": "code",
   "execution_count": 2,
   "metadata": {},
   "outputs": [
    {
     "name": "stdout",
     "output_type": "stream",
     "text": [
      "================== Gripper closed\n",
      "================== Reset to home position\n"
     ]
    }
   ],
   "source": [
    "ts.rc.reset()"
   ]
  },
  {
   "cell_type": "code",
   "execution_count": 4,
   "metadata": {},
   "outputs": [
    {
     "name": "stderr",
     "output_type": "stream",
     "text": [
      "[ERROR] [1682881079.815062]: Got a transition callback on a goal handle that we're not tracking\n"
     ]
    },
    {
     "name": "stdout",
     "output_type": "stream",
     "text": [
      "================== Gripper opened\n"
     ]
    }
   ],
   "source": [
    "ts.rc.ungrip()"
   ]
  },
  {
   "cell_type": "code",
   "execution_count": 3,
   "metadata": {},
   "outputs": [
    {
     "name": "stdout",
     "output_type": "stream",
     "text": [
      "================== Rotating\n",
      "================== Moving in cartesian\n",
      "================== Adjusting stiffness: 0/4\n",
      "================== Adjusting stiffness: 1/4 (Stopping controllers)\n",
      "================== Adjusting stiffness: 2/4 (Setting joint stiffness)\n",
      "================== Adjusting stiffness: 3/4 (Starting controllers)\n",
      "================== Adjusting stiffness: 4/4 (Stiffness adjusted to soft)\n",
      "================== Gripper closed\n",
      "================== Adjusting stiffness: 0/4\n",
      "================== Adjusting stiffness: 1/4 (Stopping controllers)\n",
      "================== Adjusting stiffness: 2/4 (Setting joint stiffness)\n",
      "================== Adjusting stiffness: 3/4 (Starting controllers)\n",
      "================== Adjusting stiffness: 4/4 (Stiffness adjusted to rigid)\n"
     ]
    }
   ],
   "source": [
    "ts.task1()\n",
    "ts.task2()\n",
    "ts.task3()\n",
    "ts.task4_1()\n",
    "ts.task4_2()\n",
    "ts.task5()\n",
    "ts.task6()\n",
    "\n",
    "\n"
   ]
  },
  {
   "cell_type": "code",
   "execution_count": 4,
   "metadata": {},
   "outputs": [
    {
     "name": "stdout",
     "output_type": "stream",
     "text": [
      "================== Moving in cartesian\n",
      "================== Rotating\n",
      "================== Rotating\n",
      "================== Moving in cartesian\n",
      "================== Moving slider\n",
      "================== Moving in cartesian\n",
      "================== Rotating\n",
      "other side: -0.008861220932006836\n",
      "================== Moving in cartesian\n",
      "================== Gripper closed\n",
      "================== Rotating\n",
      "================== Moving in cartesian\n",
      "================== Moving slider\n"
     ]
    },
    {
     "data": {
      "image/png": "[encoded data removed]",
      "text/plain": [
       "<Figure size 432x288 with 1 Axes>"
      ]
     },
     "metadata": {
      "needs_background": "light"
     },
     "output_type": "display_data"
    }
   ],
   "source": [
    "ts.task2()"
   ]
  },
  {
   "cell_type": "code",
   "execution_count": 5,
   "metadata": {},
   "outputs": [
    {
     "name": "stdout",
     "output_type": "stream",
     "text": [
      "================== Moving in cartesian\n",
      "================== Rotating\n",
      "================== Moving in cartesian\n",
      "================== Gripper opened\n",
      "================== Moving in cartesian\n",
      "================== Moving in cartesian\n",
      "================== Rotating\n",
      "================== Moving in cartesian\n",
      "================== Moving in cartesian\n",
      "================== Gripper opened\n",
      "================== Moving in cartesian\n"
     ]
    }
   ],
   "source": [
    "ts.task3()"
   ]
  },
  {
   "cell_type": "code",
   "execution_count": 4,
   "metadata": {},
   "outputs": [
    {
     "name": "stdout",
     "output_type": "stream",
     "text": [
      "================== Moving in cartesian\n",
      "================== Gripper closed\n",
      "================== Rotating\n",
      "================== Moving in cartesian\n",
      "================== Gripper opened\n",
      "================== Adjusting stiffness: 0/4\n",
      "================== Adjusting stiffness: 1/4 (Stopping controllers)\n",
      "================== Adjusting stiffness: 2/4 (Setting joint stiffness)\n",
      "================== Adjusting stiffness: 3/4 (Starting controllers)\n",
      "================== Adjusting stiffness: 4/4 (Stiffness adjusted to soft)\n",
      "================== Moving in cartesian\n",
      "================== Moving in cartesian\n",
      "================== Rotating\n",
      "================== Moving in cartesian\n",
      "================== Rotating\n",
      "================== Moving in cartesian\n",
      "================== Adjusting stiffness: 0/4\n",
      "================== Adjusting stiffness: 1/4 (Stopping controllers)\n",
      "================== Adjusting stiffness: 2/4 (Setting joint stiffness)\n",
      "================== Adjusting stiffness: 3/4 (Starting controllers)\n",
      "================== Adjusting stiffness: 4/4 (Stiffness adjusted to rigid)\n",
      "================== Gripper opened\n",
      "================== Moving in cartesian\n",
      "================== Rotating\n",
      "================== Moving in cartesian\n",
      "================== Moving in cartesian\n",
      "================== Moving in cartesian\n"
     ]
    }
   ],
   "source": [
    "ts.task4_1()"
   ]
  },
  {
   "cell_type": "code",
   "execution_count": 5,
   "metadata": {},
   "outputs": [
    {
     "name": "stdout",
     "output_type": "stream",
     "text": [
      "================== Gripper opened\n",
      "================== Moving in cartesian\n",
      "================== Rotating\n",
      "================== Gripper opened\n",
      "================== Moving in cartesian\n",
      "================== Rotating\n",
      "================== Moving in cartesian\n",
      "================== Rotating\n",
      "================== Moving in cartesian\n",
      "================== Moving in cartesian\n",
      "================== Moving in cartesian\n",
      "================== Rotating\n",
      "================== Moving in cartesian\n",
      "================== Moving in cartesian\n",
      "================== Moving in cartesian\n"
     ]
    }
   ],
   "source": [
    "ts.task4_2()"
   ]
  },
  {
   "cell_type": "code",
   "execution_count": 6,
   "metadata": {},
   "outputs": [
    {
     "name": "stdout",
     "output_type": "stream",
     "text": [
      "================== Rotating\n",
      "================== Moving in cartesian\n",
      "================== Moving in cartesian\n",
      "================== Gripper opened\n"
     ]
    }
   ],
   "source": [
    "ts.task5()"
   ]
  },
  {
   "cell_type": "code",
   "execution_count": 7,
   "metadata": {},
   "outputs": [
    {
     "name": "stdout",
     "output_type": "stream",
     "text": [
      "================== Gripper closed\n",
      "================== Reset to home position\n",
      "================== Rotating\n",
      "================== Moving in cartesian\n",
      "================== Adjusting stiffness: 0/4\n",
      "================== Adjusting stiffness: 1/4 (Stopping controllers)\n",
      "================== Adjusting stiffness: 2/4 (Setting joint stiffness)\n",
      "================== Adjusting stiffness: 3/4 (Starting controllers)\n",
      "================== Adjusting stiffness: 4/4 (Stiffness adjusted to soft)\n",
      "================== Gripper closed\n",
      "================== Adjusting stiffness: 0/4\n",
      "================== Adjusting stiffness: 1/4 (Stopping controllers)\n",
      "================== Adjusting stiffness: 2/4 (Setting joint stiffness)\n",
      "================== Adjusting stiffness: 3/4 (Starting controllers)\n",
      "================== Adjusting stiffness: 4/4 (Stiffness adjusted to rigid)\n"
     ]
    }
   ],
   "source": [
    "ts.task6()"
   ]
  },
  {
   "cell_type": "code",
   "execution_count": 14,
   "metadata": {},
   "outputs": [
    {
     "name": "stdout",
     "output_type": "stream",
     "text": [
      "================== Gripper opened\n"
     ]
    }
   ],
   "source": [
    "ts.rc.midgrip()"
   ]
  },
  {
   "cell_type": "code",
   "execution_count": 10,
   "metadata": {},
   "outputs": [
    {
     "name": "stdout",
     "output_type": "stream",
     "text": [
      "================== Gripper closed\n",
      "================== Reset to home position\n"
     ]
    }
   ],
   "source": [
    "ts.rc.reset()"
   ]
  },
  {
   "cell_type": "code",
   "execution_count": null,
   "metadata": {},
   "outputs": [],
   "source": [
    "ts.rc.cart_to_plug()"
   ]
  },
  {
   "cell_type": "code",
   "execution_count": null,
   "metadata": {},
   "outputs": [],
   "source": [
    "ts.rc.adjust_slider_mid()"
   ]
  },
  {
   "cell_type": "code",
   "execution_count": null,
   "metadata": {},
   "outputs": [],
   "source": [
    "ts.rc.good_view()"
   ]
  },
  {
   "cell_type": "code",
   "execution_count": null,
   "metadata": {},
   "outputs": [],
   "source": [
    "ts.rc.cart_to_door()\n"
   ]
  },
  {
   "cell_type": "code",
   "execution_count": null,
   "metadata": {},
   "outputs": [],
   "source": []
  },
  {
   "cell_type": "code",
   "execution_count": null,
   "metadata": {},
   "outputs": [],
   "source": [
    "ts.rc.cart_to_blue_button()"
   ]
  },
  {
   "cell_type": "code",
   "execution_count": null,
   "metadata": {},
   "outputs": [],
   "source": [
    "ts.rc.cart_to_probe_grab()"
   ]
  },
  {
   "cell_type": "code",
   "execution_count": null,
   "metadata": {},
   "outputs": [],
   "source": []
  },
  {
   "cell_type": "code",
   "execution_count": null,
   "metadata": {},
   "outputs": [],
   "source": [
    "ts.rc.cart_to_door()"
   ]
  },
  {
   "cell_type": "code",
   "execution_count": 7,
   "metadata": {},
   "outputs": [
    {
     "name": "stdout",
     "output_type": "stream",
     "text": [
      "================== Moving in cartesian\n"
     ]
    }
   ],
   "source": [
    "ts.rc.move_cart(0.0,0,-0.1,0.1)"
   ]
  },
  {
   "cell_type": "code",
   "execution_count": 12,
   "metadata": {},
   "outputs": [
    {
     "name": "stdout",
     "output_type": "stream",
     "text": [
      "================== Moving in cartesian\n"
     ]
    }
   ],
   "source": [
    "ts.rc.move_cart(-0.03,0,0,0.1)"
   ]
  },
  {
   "cell_type": "code",
   "execution_count": 8,
   "metadata": {},
   "outputs": [
    {
     "name": "stdout",
     "output_type": "stream",
     "text": [
      "================== Rotating\n",
      "================== Moving in cartesian\n"
     ]
    }
   ],
   "source": [
    "ts.rc.cart_to_probe_stage1()"
   ]
  },
  {
   "cell_type": "code",
   "execution_count": null,
   "metadata": {},
   "outputs": [],
   "source": [
    "ts.rc.grab_probe()"
   ]
  },
  {
   "cell_type": "code",
   "execution_count": null,
   "metadata": {},
   "outputs": [],
   "source": [
    "ts.rc.cart_to_slider()"
   ]
  },
  {
   "cell_type": "code",
   "execution_count": 11,
   "metadata": {},
   "outputs": [
    {
     "name": "stdout",
     "output_type": "stream",
     "text": [
      "================== Gripper closed\n",
      "================== Reset to home position\n"
     ]
    }
   ],
   "source": [
    "ts.rc.reset()\n"
   ]
  },
  {
   "cell_type": "code",
   "execution_count": null,
   "metadata": {},
   "outputs": [],
   "source": [
    "ts.rc.origin_x"
   ]
  },
  {
   "cell_type": "code",
   "execution_count": null,
   "metadata": {},
   "outputs": [],
   "source": [
    "ts.task4()"
   ]
  },
  {
   "cell_type": "code",
   "execution_count": null,
   "metadata": {},
   "outputs": [],
   "source": [
    "ts.rc.origin_y"
   ]
  },
  {
   "cell_type": "code",
   "execution_count": null,
   "metadata": {},
   "outputs": [],
   "source": [
    "ts.rc.move_group.get_current_pose()"
   ]
  },
  {
   "cell_type": "code",
   "execution_count": null,
   "metadata": {},
   "outputs": [],
   "source": [
    "ts.rc.move_group.get_current_pose()"
   ]
  },
  {
   "cell_type": "code",
   "execution_count": null,
   "metadata": {},
   "outputs": [],
   "source": [
    "ts.rc.set_origin()"
   ]
  },
  {
   "cell_type": "code",
   "execution_count": null,
   "metadata": {},
   "outputs": [],
   "source": [
    "ts.rc.move_group.get_current_joint_values()"
   ]
  },
  {
   "cell_type": "code",
   "execution_count": null,
   "metadata": {},
   "outputs": [],
   "source": [
    "ts.rc.cart_to_door()"
   ]
  },
  {
   "cell_type": "code",
   "execution_count": 8,
   "metadata": {},
   "outputs": [
    {
     "name": "stdout",
     "output_type": "stream",
     "text": [
      "================== Gripper opened\n"
     ]
    }
   ],
   "source": [
    "ts.rc.ungrip()"
   ]
  },
  {
   "cell_type": "code",
   "execution_count": null,
   "metadata": {},
   "outputs": [],
   "source": [
    "ts.rc.open_door()"
   ]
  },
  {
   "cell_type": "code",
   "execution_count": null,
   "metadata": {},
   "outputs": [],
   "source": [
    "ts.rc.move_cart(0.03,0.05,0.28,0.1)\n"
   ]
  },
  {
   "cell_type": "code",
   "execution_count": 13,
   "metadata": {},
   "outputs": [
    {
     "name": "stdout",
     "output_type": "stream",
     "text": [
      "================== Gripper opened\n"
     ]
    }
   ],
   "source": [
    "ts.rc.ungrip()"
   ]
  },
  {
   "cell_type": "code",
   "execution_count": null,
   "metadata": {},
   "outputs": [],
   "source": [
    "ts.rc.pose_to(0.9019954, -0.4317457, 0, 0 )"
   ]
  },
  {
   "cell_type": "code",
   "execution_count": null,
   "metadata": {},
   "outputs": [],
   "source": [
    "ts.rc.cart_to_plugin()"
   ]
  },
  {
   "cell_type": "code",
   "execution_count": null,
   "metadata": {},
   "outputs": [],
   "source": [
    "ts.rc.cart_to_door()"
   ]
  },
  {
   "cell_type": "code",
   "execution_count": null,
   "metadata": {},
   "outputs": [],
   "source": [
    "from math import pi"
   ]
  },
  {
   "cell_type": "code",
   "execution_count": null,
   "metadata": {},
   "outputs": [],
   "source": [
    "x = 0.3021945225639381\n",
    "y = 0.0004357344712455424\n",
    "z = 0.4995096898072144\n",
    "qx = -0.9097053926251429\n",
    "qy = 0.37739969978584104\n",
    "qz = -0.15991718592194232\n",
    "qw = 0.06657371010465253\n",
    "v = 0.1\n",
    "\n",
    "ts.rc.pose_to(qx,qy,qz,qw)\n",
    "ts.rc.cart_to(x,y,z,v)"
   ]
  },
  {
   "cell_type": "code",
   "execution_count": null,
   "metadata": {
    "scrolled": true
   },
   "outputs": [],
   "source": [
    "x = 0.3784\n",
    "y = 0.1429\n",
    "z = 0.2208\n",
    "qx = -0.8935836865985152\n",
    "qy = 0.432670702188715\n",
    "qz = -0.026060640135555334\n",
    "qw = 0.11672661028341327\n",
    "v = 0.1\n",
    "\n",
    "ts.rc.pose_to(qx,qy,qz,qw)\n",
    "ts.rc.cart_to(x,y,z,v)"
   ]
  },
  {
   "cell_type": "code",
   "execution_count": null,
   "metadata": {},
   "outputs": [],
   "source": [
    "ts.rc.open_door()"
   ]
  },
  {
   "cell_type": "code",
   "execution_count": null,
   "metadata": {},
   "outputs": [],
   "source": [
    "ts.rc.move_cart(-0.02,0,-0.0,0.05)\n"
   ]
  },
  {
   "cell_type": "code",
   "execution_count": null,
   "metadata": {},
   "outputs": [],
   "source": [
    "ts.rc.grip()"
   ]
  },
  {
   "cell_type": "code",
   "execution_count": null,
   "metadata": {},
   "outputs": [],
   "source": [
    "ts.rc.ungrip()"
   ]
  },
  {
   "cell_type": "code",
   "execution_count": null,
   "metadata": {},
   "outputs": [],
   "source": [
    "ts.reset()\n",
    "ts.rc.grip()"
   ]
  },
  {
   "cell_type": "code",
   "execution_count": null,
   "metadata": {},
   "outputs": [],
   "source": [
    "ts.rc.move_cart(0.001,-0.00,0.0,0.03)"
   ]
  },
  {
   "cell_type": "code",
   "execution_count": null,
   "metadata": {},
   "outputs": [],
   "source": [
    "ts.rc.move_group.get_current_pose()"
   ]
  },
  {
   "cell_type": "code",
   "execution_count": null,
   "metadata": {},
   "outputs": [],
   "source": [
    "img = ts.tp.take_pic_rgb()\n",
    "img = cv2.cvtColor(img,cv2.COLOR_BGR2RGB)"
   ]
  },
  {
   "cell_type": "code",
   "execution_count": null,
   "metadata": {},
   "outputs": [],
   "source": [
    "import cv2\n",
    "des = \"data/board/board_calib0/test9.jpg\"\n",
    "\n",
    "cv2.imwrite(des,img)"
   ]
  },
  {
   "cell_type": "code",
   "execution_count": null,
   "metadata": {},
   "outputs": [],
   "source": [
    "import cv2\n",
    "img = ts.tp.take_pic_rgb()\n",
    "img = cv2.cvtColor(img,cv2.COLOR_BGR2RGB)\n",
    "des = \"data/board/board_calib0/calib2.jpg\"\n",
    "cv2.imwrite(des,img)\n"
   ]
  },
  {
   "cell_type": "code",
   "execution_count": null,
   "metadata": {},
   "outputs": [],
   "source": [
    "from roboflow import Roboflow\n",
    "\n",
    "rf = Roboflow(api_key=\"XqbFaKHYp31Oe9UITvyq\")\n",
    "\n",
    "project = rf.workspace().project(\"robothon-1eusu\")\n",
    "\n",
    "model = project.version(4).model\n",
    "\n",
    "\n",
    "# infer on a local image\n",
    "\n",
    "#print(model.predict(\"data/board/board_calib0/test5.jpg\", confidence=60, overlap=30).json())\n",
    "\n",
    "print(model.predict(des, confidence=50, overlap=30).json())\n",
    "\n",
    "\n",
    "\n",
    "# visualize your prediction\n",
    "\n",
    "#model.predict(\"data/board/board_calib0/test5.jpg\", confidence=60, overlap=30).save(\"data/board/board_calib0/prediction.jpg\")\n",
    "model.predict(des, confidence=50, overlap=30).save(\"data/board/board_calib0/prediction2.jpg\")\n",
    "\n"
   ]
  },
  {
   "cell_type": "code",
   "execution_count": null,
   "metadata": {},
   "outputs": [],
   "source": [
    "\n",
    "import json\n",
    "\n",
    "obj = model.predict(ts.tp.take_pic_rgb(), confidence=50, overlap=30).json()\n",
    "\n",
    "def blue_button(elem):\n",
    "\n",
    "    return elem[\"class\"] == \"blue-button\"\n",
    "\n",
    "my_filter = filter(blue_button, obj[\"predictions\"])\n",
    "\n",
    "filtered_obj = list(my_filter)\n",
    "\n",
    "coord_x = filtered_obj[0]['x'] + filtered_obj[0]['width']/2\n",
    "\n",
    "coord_y = filtered_obj[0]['y'] + filtered_obj[0]['height']/2\n",
    "\n",
    "print(coord_x)\n",
    "\n",
    "print(coord_y)\n",
    "\n",
    "\n"
   ]
  },
  {
   "cell_type": "code",
   "execution_count": null,
   "metadata": {},
   "outputs": [],
   "source": [
    "import actionlib\n",
    "from franka_gripper.msg import MoveAction, GraspAction, MoveGoal, GraspGoal\n",
    "gripper_move_client = actionlib.SimpleActionClient('/franka_gripper/move', MoveAction)\n",
    "gripper_grasp_client = actionlib.SimpleActionClient('/franka_gripper/grasp', GraspAction)"
   ]
  },
  {
   "cell_type": "code",
   "execution_count": null,
   "metadata": {},
   "outputs": [],
   "source": [
    "# fully open\n",
    "\n",
    "goal = MoveGoal()\n",
    "goal.width = 0.08\n",
    "goal.speed = 0.1\n",
    "gripper_move_client.send_goal_and_wait(goal)\n",
    "gripper_move_client.get_result()"
   ]
  },
  {
   "cell_type": "code",
   "execution_count": null,
   "metadata": {},
   "outputs": [],
   "source": [
    "# close on object\n",
    "# plug\n",
    "def grab_plug():\n",
    "    \n",
    "    goal = GraspGoal()\n",
    "    goal.width = 0.0106\n",
    "    goal.epsilon.inner = 0.005\n",
    "    goal.epsilon.outer = 0.005\n",
    "    goal.speed = 0.1\n",
    "    goal.force = 5.\n",
    "    gripper_grasp_client.send_goal_and_wait(goal)\n",
    "    gripper_grasp_client.get_result()\n",
    "    print(\"================= Grab the plug\")"
   ]
  },
  {
   "cell_type": "code",
   "execution_count": null,
   "metadata": {},
   "outputs": [],
   "source": [
    "grab_plug()"
   ]
  },
  {
   "cell_type": "code",
   "execution_count": null,
   "metadata": {},
   "outputs": [],
   "source": [
    "# plug\n",
    "def grab_doorhandle():\n",
    "    \n",
    "    goal = GraspGoal()\n",
    "    goal.width = 0.011\n",
    "    goal.epsilon.inner = 0.005\n",
    "    goal.epsilon.outer = 0.005\n",
    "    goal.speed = 0.1\n",
    "    goal.force = 5.\n",
    "    gripper_grasp_client.send_goal_and_wait(goal)\n",
    "    gripper_grasp_client.get_result()\n",
    "    print(\"================= Grab the door handle\")"
   ]
  },
  {
   "cell_type": "code",
   "execution_count": null,
   "metadata": {},
   "outputs": [],
   "source": [
    "grab_doorhandle()"
   ]
  },
  {
   "cell_type": "code",
   "execution_count": null,
   "metadata": {},
   "outputs": [],
   "source": [
    "ts.reset()"
   ]
  },
  {
   "cell_type": "code",
   "execution_count": null,
   "metadata": {},
   "outputs": [],
   "source": [
    "ts.rc.ungrip()"
   ]
  },
  {
   "cell_type": "code",
   "execution_count": null,
   "metadata": {},
   "outputs": [],
   "source": [
    "ts.rc.grab_plug()"
   ]
  },
  {
   "cell_type": "code",
   "execution_count": null,
   "metadata": {},
   "outputs": [],
   "source": [
    "ts.rc.pose_to_plug()"
   ]
  },
  {
   "cell_type": "code",
   "execution_count": null,
   "metadata": {},
   "outputs": [],
   "source": [
    "ts.rc.pose_to_button()"
   ]
  },
  {
   "cell_type": "code",
   "execution_count": null,
   "metadata": {},
   "outputs": [],
   "source": [
    "ts.rc.unplug()"
   ]
  },
  {
   "cell_type": "code",
   "execution_count": null,
   "metadata": {},
   "outputs": [],
   "source": [
    "ts.rc.plugin()"
   ]
  },
  {
   "cell_type": "code",
   "execution_count": null,
   "metadata": {},
   "outputs": [],
   "source": [
    "!rostopic pub -1 /franka_control/error_recovery/goal franka_msgs/ErrorRecoveryActionGoal \"{}\"\n"
   ]
  },
  {
   "cell_type": "code",
   "execution_count": null,
   "metadata": {},
   "outputs": [],
   "source": [
    "ts.rc.pose_to(,0,0,0)"
   ]
  },
  {
   "cell_type": "code",
   "execution_count": null,
   "metadata": {},
   "outputs": [],
   "source": [
    "ts.rc.move_group.get_current_joint_values()"
   ]
  },
  {
   "cell_type": "code",
   "execution_count": null,
   "metadata": {},
   "outputs": [],
   "source": [
    "ts.rc.move_group.get_current_pose()"
   ]
  },
  {
   "cell_type": "code",
   "execution_count": null,
   "metadata": {},
   "outputs": [],
   "source": [
    "import tf\n",
    "import rospy"
   ]
  },
  {
   "cell_type": "code",
   "execution_count": null,
   "metadata": {},
   "outputs": [],
   "source": [
    "t = tf.Transformer(True, rospy.Duration(10))\n",
    "t.allFramesAsString()"
   ]
  },
  {
   "cell_type": "code",
   "execution_count": null,
   "metadata": {},
   "outputs": [],
   "source": [
    "ts.rc.move_group.get_current_pose(\"panda_hand_tcp\")"
   ]
  },
  {
   "cell_type": "code",
   "execution_count": null,
   "metadata": {},
   "outputs": [],
   "source": [
    "ts.tp.ge"
   ]
  },
  {
   "cell_type": "code",
   "execution_count": null,
   "metadata": {},
   "outputs": [],
   "source": [
    "rospy.init_node('fixed_tf_broadcaster')\n",
    "br = tf.TransformBroadcaster()\n",
    "rate = rospy.Rate(10.0)\n",
    "br.sendTransform((0.0, 0.0, 0.1),\n",
    "                        (0.0, 0.0, 0.0, 0.0),\n",
    "                        rospy.Time.now(),\n",
    "                        \"test\",\n",
    "                        \"panda_link0\")\n",
    "rate.sleep()"
   ]
  },
  {
   "cell_type": "code",
   "execution_count": null,
   "metadata": {},
   "outputs": [],
   "source": [
    "ts.rc.cart_to_door_stage1()"
   ]
  },
  {
   "cell_type": "code",
   "execution_count": null,
   "metadata": {},
   "outputs": [],
   "source": [
    "ts.rc.move_group.get_current_joint_values()"
   ]
  },
  {
   "cell_type": "code",
   "execution_count": null,
   "metadata": {},
   "outputs": [],
   "source": [
    "ts.rc.move_group.get_current_pose()"
   ]
  },
  {
   "cell_type": "code",
   "execution_count": null,
   "metadata": {},
   "outputs": [],
   "source": [
    "ts.rc.midgrip()\n",
    "\n",
    "x = 0.3982345316188779\n",
    "y = 0.1261794448187317\n",
    "z = 0.20733360964411776\n",
    "qx = -0.8966804838082628\n",
    "qy = 0.42828747156548996\n",
    "qz = -0.04497860052064731\n",
    "qw = 0.10252256899153182\n",
    "v = 0.1\n",
    "\n",
    "ts.rc.pose_to(qx,qy,qz,qw)\n",
    "ts.rc.cart_to(x,y,z,v)"
   ]
  },
  {
   "cell_type": "code",
   "execution_count": null,
   "metadata": {},
   "outputs": [],
   "source": [
    "ts.rc.grab_door()"
   ]
  },
  {
   "cell_type": "code",
   "execution_count": null,
   "metadata": {},
   "outputs": [],
   "source": [
    "ts.rc.open_door()"
   ]
  },
  {
   "cell_type": "code",
   "execution_count": null,
   "metadata": {},
   "outputs": [],
   "source": [
    "ts.rc.grab_door()\n",
    "#self.soft()\n",
    "#self.rigid()\n",
    "\n",
    "x = 0.339\n",
    "y = 0.1429\n",
    "z = 0.2488\n",
    "qx = -0.9203639\n",
    "qy = 0.3812272\n",
    "qz = -0.0805214\n",
    "qw = 0.0333531\n",
    "v = 0.1\n",
    "\n",
    "ts.rc.pose_to(qx,qy,qz,qw)\n",
    "ts.rc.cart_to(x,y,z,v) "
   ]
  },
  {
   "cell_type": "code",
   "execution_count": null,
   "metadata": {},
   "outputs": [],
   "source": [
    "ts.rc.move_group_hand.get_current_joint_values()"
   ]
  },
  {
   "cell_type": "code",
   "execution_count": null,
   "metadata": {},
   "outputs": [],
   "source": []
  },
  {
   "cell_type": "code",
   "execution_count": null,
   "metadata": {},
   "outputs": [],
   "source": []
  }
 ],
 "metadata": {
  "kernelspec": {
   "display_name": "Python 3",
   "language": "python",
   "name": "python3"
  },
  "language_info": {
   "codemirror_mode": {
    "name": "ipython",
    "version": 3
   },
   "file_extension": ".py",
   "mimetype": "text/x-python",
   "name": "python",
   "nbconvert_exporter": "python",
   "pygments_lexer": "ipython3",
   "version": "3.8.10"
  }
 },
 "nbformat": 4,
 "nbformat_minor": 2
}

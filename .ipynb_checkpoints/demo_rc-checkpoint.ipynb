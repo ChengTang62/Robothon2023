{
 "cells": [
  {
   "cell_type": "code",
   "execution_count": 112,
   "metadata": {},
   "outputs": [
    {
     "name": "stdout",
     "output_type": "stream",
     "text": [
      "publishing and latching message for 3.0 seconds\r\n"
     ]
    }
   ],
   "source": [
    "!rostopic pub -1 /franka_control/error_recovery/goal franka_msgs/ErrorRecoveryActionGoal \"{}\"\n"
   ]
  },
  {
   "cell_type": "code",
   "execution_count": 113,
   "metadata": {
    "scrolled": true
   },
   "outputs": [
    {
     "name": "stdout",
     "output_type": "stream",
     "text": [
      "================== Initialization Complete\n"
     ]
    }
   ],
   "source": [
    "import functions\n",
    "reload(functions)\n",
    "\n",
    "\n",
    "rc = functions.RobotControl()\n"
   ]
  },
  {
   "cell_type": "code",
   "execution_count": 37,
   "metadata": {},
   "outputs": [
    {
     "data": {
      "text/plain": [
       "5.0"
      ]
     },
     "execution_count": 37,
     "metadata": {},
     "output_type": "execute_result"
    }
   ],
   "source": [
    "rc.plan.allowed_planning_time"
   ]
  },
  {
   "cell_type": "code",
   "execution_count": 114,
   "metadata": {},
   "outputs": [
    {
     "name": "stdout",
     "output_type": "stream",
     "text": [
      "================== Ungripped\n",
      "================== Midgripped\n",
      "================== Reset to home position\n"
     ]
    }
   ],
   "source": [
    "\n",
    "rc.reset()\n",
    "rc.move_cart(0.02,-0.05,0,0.1)\n"
   ]
  },
  {
   "cell_type": "code",
   "execution_count": 76,
   "metadata": {},
   "outputs": [
    {
     "name": "stdout",
     "output_type": "stream",
     "text": [
      "================== Gripped\n"
     ]
    }
   ],
   "source": [
    "rc.pose_to_screen()"
   ]
  },
  {
   "cell_type": "code",
   "execution_count": 18,
   "metadata": {},
   "outputs": [
    {
     "name": "stdout",
     "output_type": "stream",
     "text": [
      "================== Gripped\n"
     ]
    }
   ],
   "source": [
    "rc.grip()"
   ]
  },
  {
   "cell_type": "code",
   "execution_count": 109,
   "metadata": {},
   "outputs": [
    {
     "name": "stdout",
     "output_type": "stream",
     "text": [
      "================== Ungripped\n"
     ]
    }
   ],
   "source": [
    "rc.ungrip()"
   ]
  },
  {
   "cell_type": "code",
   "execution_count": 105,
   "metadata": {},
   "outputs": [],
   "source": [
    "rc.pose_to_plug()"
   ]
  },
  {
   "cell_type": "code",
   "execution_count": 106,
   "metadata": {},
   "outputs": [
    {
     "name": "stdout",
     "output_type": "stream",
     "text": [
      "================== Midgripped\n",
      "================== Midgripped\n"
     ]
    }
   ],
   "source": [
    "rc.unplug()"
   ]
  },
  {
   "cell_type": "code",
   "execution_count": 107,
   "metadata": {},
   "outputs": [
    {
     "name": "stdout",
     "output_type": "stream",
     "text": [
      "================== Joints speed: 0.02\n",
      "================== Joints acceleration: 0.02\n",
      "================== Hands speed: 0.02\n",
      "================== Hands acceleration: 0.02\n",
      "================== Midgripped\n"
     ]
    }
   ],
   "source": [
    "rc.plugin()"
   ]
  },
  {
   "cell_type": "code",
   "execution_count": 24,
   "metadata": {},
   "outputs": [
    {
     "data": {
      "text/plain": [
       "[0.004903330001980066, 0.004903330001980066]"
      ]
     },
     "execution_count": 24,
     "metadata": {},
     "output_type": "execute_result"
    }
   ],
   "source": [
    "rc.move_group_hand.g"
   ]
  },
  {
   "cell_type": "code",
   "execution_count": 179,
   "metadata": {},
   "outputs": [],
   "source": [
    "pose_goal = rc.move_group.get_current_pose()\n",
    "\n",
    "pose_goal.pose.orientation.x = 0.01\n",
    "pose_goal.pose.orientation.y = 0.0\n",
    "pose_goal.pose.orientation.z = 0\n",
    "pose_goal.pose.orientation.w = 0\n",
    "\n",
    "\n",
    "rc.move_group.set_pose_target(pose_goal)\n"
   ]
  },
  {
   "cell_type": "code",
   "execution_count": 180,
   "metadata": {},
   "outputs": [],
   "source": [
    "# `go()` returns a boolean indicating whether the planning and execution was successful.\n",
    "success = rc.move_group.go(wait=True)\n",
    "# Calling `stop()` ensures that there is no residual movement\n",
    "rc.move_group.stop()\n",
    "# It is always good to clear your targets after planning with poses.\n",
    "# Note: there is no equivalent function for clear_joint_value_targets().\n",
    "rc.move_group.clear_pose_targets()"
   ]
  },
  {
   "cell_type": "code",
   "execution_count": 102,
   "metadata": {},
   "outputs": [],
   "source": [
    "#============================================\n",
    "\n",
    "x = 0.07\n",
    "y = 0.05\n",
    "\n",
    "rc.move_cart(x,0,0)\n",
    "rc.move_cart(0,-y,0)\n",
    "rc.move_cart(-x,0,0)\n",
    "rc.move_cart(0,-y,0)\n",
    "rc.move_cart(x,0,0)\n",
    "rc.move_cart(0,-y,0)\n",
    "rc.move_cart(-x,0,0)\n",
    "\n",
    "\n",
    "\n",
    "rc.move_cart(0,0,0.05)\n",
    "\n",
    "rc.move_cart(x,0,0)\n",
    "rc.move_cart(0,y,0)\n",
    "rc.move_cart(-x,0,0)\n",
    "rc.move_cart(0,y,0)\n",
    "rc.move_cart(x,0,0)\n",
    "rc.move_cart(0,y,0)\n",
    "rc.move_cart(-x,0,0)\n",
    "\n",
    "    #rc.move_cart(0.2,0,0)\n",
    "\n"
   ]
  },
  {
   "cell_type": "code",
   "execution_count": 98,
   "metadata": {},
   "outputs": [
    {
     "name": "stdout",
     "output_type": "stream",
     "text": [
      "publishing and latching message for 3.0 seconds\r\n"
     ]
    }
   ],
   "source": [
    "!rostopic pub -1 /franka_control/error_recovery/goal franka_msgs/ErrorRecoveryActionGoal \"{}\"\n"
   ]
  },
  {
   "cell_type": "code",
   "execution_count": 58,
   "metadata": {},
   "outputs": [
    {
     "data": {
      "text/plain": [
       "[0.0048984051682055, 0.0048984051682055]"
      ]
     },
     "execution_count": 58,
     "metadata": {},
     "output_type": "execute_result"
    }
   ],
   "source": [
    "rc.move_group_hand.get_current_joint_values()"
   ]
  },
  {
   "cell_type": "code",
   "execution_count": 43,
   "metadata": {},
   "outputs": [],
   "source": [
    "rc.move_group_hand.clear_pose_targets()"
   ]
  },
  {
   "cell_type": "code",
   "execution_count": 53,
   "metadata": {},
   "outputs": [],
   "source": [
    "rc.move_group_hand.stop()"
   ]
  },
  {
   "cell_type": "code",
   "execution_count": null,
   "metadata": {},
   "outputs": [],
   "source": []
  }
 ],
 "metadata": {
  "kernelspec": {
   "display_name": "Python 2",
   "language": "python",
   "name": "python2"
  },
  "language_info": {
   "codemirror_mode": {
    "name": "ipython",
    "version": 2
   },
   "file_extension": ".py",
   "mimetype": "text/x-python",
   "name": "python",
   "nbconvert_exporter": "python",
   "pygments_lexer": "ipython2",
   "version": "2.7.17"
  }
 },
 "nbformat": 4,
 "nbformat_minor": 2
}

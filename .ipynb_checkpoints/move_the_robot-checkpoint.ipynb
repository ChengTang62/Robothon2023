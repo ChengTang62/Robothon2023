{
 "cells": [
  {
   "cell_type": "code",
   "execution_count": 1,
   "metadata": {},
   "outputs": [
    {
     "name": "stderr",
     "output_type": "stream",
     "text": [
      "the rosdep view is empty: call 'sudo rosdep init' and 'rosdep update'\n"
     ]
    }
   ],
   "source": [
    "# Python 2/3 compatibility imports\n",
    "from __future__ import print_function\n",
    "from six.moves import input\n",
    "\n",
    "import sys\n",
    "import copy\n",
    "import rospy\n",
    "import moveit_commander\n",
    "import moveit_msgs.msg\n",
    "import geometry_msgs.msg\n",
    "\n",
    "try:\n",
    "    from math import pi, tau, dist, fabs, cos\n",
    "except:  # For Python 2 compatibility\n",
    "    from math import pi, fabs, cos, sqrt\n",
    "\n",
    "    tau = 2.0 * pi\n",
    "\n",
    "    def dist(p, q):\n",
    "        return sqrt(sum((p_i - q_i) ** 2.0 for p_i, q_i in zip(p, q)))\n",
    "\n",
    "\n",
    "from std_msgs.msg import String\n",
    "from moveit_commander.conversions import pose_to_list"
   ]
  },
  {
   "cell_type": "code",
   "execution_count": 2,
   "metadata": {},
   "outputs": [],
   "source": [
    "moveit_commander.roscpp_initialize(sys.argv)\n",
    "rospy.init_node(\"move_group_python_interface_tutorial\", anonymous=True)"
   ]
  },
  {
   "cell_type": "code",
   "execution_count": 3,
   "metadata": {},
   "outputs": [],
   "source": [
    "robot = moveit_commander.RobotCommander()"
   ]
  },
  {
   "cell_type": "code",
   "execution_count": 4,
   "metadata": {},
   "outputs": [],
   "source": [
    "scene = moveit_commander.PlanningSceneInterface()"
   ]
  },
  {
   "cell_type": "code",
   "execution_count": 5,
   "metadata": {},
   "outputs": [],
   "source": [
    "group_name = \"panda_arm\"\n",
    "move_group = moveit_commander.MoveGroupCommander(group_name)\n",
    "\n",
    "group_name_hand = \"panda_hand\"\n",
    "move_group_hand = moveit_commander.MoveGroupCommander(group_name_hand)"
   ]
  },
  {
   "cell_type": "code",
   "execution_count": 6,
   "metadata": {},
   "outputs": [],
   "source": [
    "display_trajectory_publisher = rospy.Publisher(\n",
    "    \"/move_group/display_planned_path\",\n",
    "    moveit_msgs.msg.DisplayTrajectory,\n",
    "    queue_size=20,\n",
    ")"
   ]
  },
  {
   "cell_type": "code",
   "execution_count": 7,
   "metadata": {},
   "outputs": [],
   "source": [
    "move_group.set_max_velocity_scaling_factor(0.3)\n",
    "move_group.set_max_acceleration_scaling_factor(0.3)\n",
    "move_group_hand.set_max_velocity_scaling_factor(0.02)\n",
    "move_group_hand.set_max_acceleration_scaling_factor(0.02)"
   ]
  },
  {
   "cell_type": "code",
   "execution_count": 8,
   "metadata": {},
   "outputs": [],
   "source": [
    "# We can get the name of the reference frame for this robot:\n",
    "planning_frame = move_group.get_planning_frame()\n",
    "#print(\"============ Planning frame: %s\" % planning_frame)\n",
    "\n",
    "# We can also print the name of the end-effector link for this group:\n",
    "eef_link = move_group.get_end_effector_link()\n",
    "#print(\"============ End effector link: %s\" % eef_link)\n",
    "\n",
    "# We can get a list of all the groups in the robot:\n",
    "group_names = robot.get_group_names()\n",
    "#print(\"============ Available Planning Groups:\", robot.get_group_names())\n",
    "\n",
    "# Sometimes for debugging it is useful to print the entire state of the\n",
    "# robot:\n",
    "#print(\"============ Printing robot state\")\n",
    "#print(robot.get_current_state())\n",
    "#print(\"\")"
   ]
  },
  {
   "cell_type": "code",
   "execution_count": 23,
   "metadata": {},
   "outputs": [
    {
     "name": "stdout",
     "output_type": "stream",
     "text": [
      "publishing and latching message for 3.0 seconds\r\n"
     ]
    }
   ],
   "source": [
    "!rostopic pub -1 /franka_control/error_recovery/goal franka_msgs/ErrorRecoveryActionGoal \"{}\"\n"
   ]
  },
  {
   "cell_type": "code",
   "execution_count": 21,
   "metadata": {},
   "outputs": [],
   "source": [
    "# We get the joint values from the group and change some of the values:\n",
    "def reset():\n",
    "    \n",
    "    move_group.set_max_velocity_scaling_factor(0.3)\n",
    "    move_group.set_max_acceleration_scaling_factor(0.3)\n",
    "    \n",
    "    joint_goal = move_group.get_current_joint_values()\n",
    "    joint_goal[0] = 0 * pi /180\n",
    "    joint_goal[1] = -48 * pi / 180\n",
    "    joint_goal[2] = 0 * pi / 180\n",
    "    joint_goal[3] = -153 * pi / 180\n",
    "    joint_goal[4] = 0\n",
    "    joint_goal[5] = 106 * pi / 180\n",
    "    joint_goal[6] = 44 * pi / 180\n",
    "\n",
    "    # The go command can be called with joint values, poses, or without any\n",
    "    # parameters if you have already set the pose or joint target for the group\n",
    "    move_group.go(joint_goal, wait=True)\n",
    "\n",
    "    # Calling ``stop()`` ensures that there is no residual movement\n",
    "    move_group.stop()"
   ]
  },
  {
   "cell_type": "code",
   "execution_count": 22,
   "metadata": {},
   "outputs": [],
   "source": [
    "reset()"
   ]
  },
  {
   "cell_type": "code",
   "execution_count": 24,
   "metadata": {},
   "outputs": [],
   "source": [
    "def go_to_button():\n",
    "    \n",
    "    move_group.set_max_velocity_scaling_factor(0.3)\n",
    "    move_group.set_max_acceleration_scaling_factor(0.3)\n",
    "    \n",
    "    joint_goal = move_group.get_current_joint_values()\n",
    "    joint_goal[0] = -65 * pi /180\n",
    "    joint_goal[1] = -78 * pi / 180\n",
    "    joint_goal[2] = 91 * pi / 180\n",
    "    joint_goal[3] = -167 * pi / 180\n",
    "    joint_goal[4] = 88 * pi / 180\n",
    "    joint_goal[5] = 103 * pi / 180\n",
    "    joint_goal[6] = -6 * pi / 180\n",
    "\n",
    "    # The go command can be called with joint values, poses, or without any\n",
    "    # parameters if you have already set the pose or joint target for the group\n",
    "    move_group.go(joint_goal, wait=True)\n",
    "\n",
    "    # Calling ``stop()`` ensures that there is no residual movement\n",
    "    move_group.stop()\n",
    "    \n",
    "    #######################\n",
    "    \n",
    "    "
   ]
  },
  {
   "cell_type": "code",
   "execution_count": 25,
   "metadata": {},
   "outputs": [],
   "source": [
    "go_to_button()"
   ]
  },
  {
   "cell_type": "code",
   "execution_count": 28,
   "metadata": {},
   "outputs": [],
   "source": [
    "def grip():\n",
    "    hand_goal = move_group_hand.get_current_joint_values()\n",
    "    \n",
    "    hand_goal[0] = 0\n",
    "    move_group_hand.go(hand_goal, wait=True)\n",
    "    \n",
    "    move_group_hand.stop()\n",
    "    "
   ]
  },
  {
   "cell_type": "code",
   "execution_count": 29,
   "metadata": {},
   "outputs": [],
   "source": [
    "def ungrip():\n",
    "    hand_goal = move_group_hand.get_current_joint_values()\n",
    "    \n",
    "    hand_goal[0] = 0.039\n",
    "    move_group_hand.go(hand_goal, wait=True)\n",
    "    \n",
    "    move_group_hand.stop()"
   ]
  },
  {
   "cell_type": "code",
   "execution_count": 68,
   "metadata": {},
   "outputs": [],
   "source": [
    "def midgrip(dist):\n",
    "    hand_goal = move_group_hand.get_current_joint_values()\n",
    "    \n",
    "    hand_goal[0] = dist\n",
    "    move_group_hand.go(hand_goal, wait=True)\n",
    "    \n",
    "    move_group_hand.stop()"
   ]
  },
  {
   "cell_type": "code",
   "execution_count": 16,
   "metadata": {},
   "outputs": [],
   "source": [
    "grip()"
   ]
  },
  {
   "cell_type": "code",
   "execution_count": 76,
   "metadata": {},
   "outputs": [
    {
     "name": "stdout",
     "output_type": "stream",
     "text": [
      "My stupid wrapper\n"
     ]
    }
   ],
   "source": [
    "import wrapper\n",
    "wrapper.fun()"
   ]
  },
  {
   "cell_type": "code",
   "execution_count": 17,
   "metadata": {},
   "outputs": [],
   "source": [
    "ungrip()"
   ]
  },
  {
   "cell_type": "code",
   "execution_count": 18,
   "metadata": {},
   "outputs": [],
   "source": [
    "midgrip()"
   ]
  },
  {
   "cell_type": "code",
   "execution_count": 24,
   "metadata": {},
   "outputs": [],
   "source": [
    "def move_down_plan(dist=0.27):\n",
    "    waypoints = []\n",
    "\n",
    "    wpose = move_group.get_current_pose().pose\n",
    "    wpose.position.z -= dist  \n",
    "    waypoints.append(copy.deepcopy(wpose))\n",
    "\n",
    "    (plan, fraction) = move_group.compute_cartesian_path(\n",
    "        waypoints, 0.01, 0.0  # waypoints to follow  # eef_step\n",
    "    )  # jump_threshold\n",
    "\n",
    "    # Note: We are just planning, not asking move_group to actually move the robot yet:\n",
    "\n",
    "    new_plan=move_group.retime_trajectory(move_group.get_current_state(),\n",
    "                                 plan,velocity_scaling_factor=0.1,\n",
    "                                 acceleration_scaling_factor=0.1)\n",
    "    \n",
    "    display_trajectory = moveit_msgs.msg.DisplayTrajectory()\n",
    "    display_trajectory.trajectory_start = robot.get_current_state()\n",
    "    display_trajectory.trajectory.append(new_plan)\n",
    "    # Publish\n",
    "    display_trajectory_publisher.publish(display_trajectory)\n",
    "    \n",
    "    return new_plan"
   ]
  },
  {
   "cell_type": "code",
   "execution_count": 77,
   "metadata": {},
   "outputs": [],
   "source": [
    "import time"
   ]
  },
  {
   "cell_type": "code",
   "execution_count": 25,
   "metadata": {},
   "outputs": [
    {
     "data": {
      "text/plain": [
       "True"
      ]
     },
     "execution_count": 25,
     "metadata": {},
     "output_type": "execute_result"
    }
   ],
   "source": [
    "move_group.execute(move_down_plan(), wait=True)"
   ]
  },
  {
   "cell_type": "code",
   "execution_count": 31,
   "metadata": {},
   "outputs": [],
   "source": [
    "def push_button():\n",
    "\n",
    "    ungrip()\n",
    "    stop_controllers()\n",
    "    stiffness = [100.,25.,100., 100.,100.,100.,100]\n",
    "    set_joint_stiffness(stiffness)\n",
    "    start_controllers()\n",
    "    \n",
    "    \n",
    "\n",
    "    grip()\n",
    "    \n",
    "    \n",
    "    waypoints = []\n",
    "\n",
    "    wpose = move_group.get_current_pose().pose\n",
    "    print(\"z\",wpose.position.z)\n",
    "    wpose.position.z -= 0.016\n",
    "    waypoints.append(copy.deepcopy(wpose))\n",
    "\n",
    "    wpose.position.z += 0.05  \n",
    "    waypoints.append(copy.deepcopy(wpose))\n",
    "\n",
    "    (plan, fraction) = move_group.compute_cartesian_path(\n",
    "        waypoints, 0.01, 0.0  # waypoints to follow  # eef_step\n",
    "    )  # jump_threshold\n",
    "\n",
    "\n",
    "\n",
    "    new_plan=move_group.retime_trajectory(move_group.get_current_state(),\n",
    "                                 plan,velocity_scaling_factor=0.03,\n",
    "                                 acceleration_scaling_factor=0.06)\n",
    "    \n",
    "    move_group.execute(new_plan, wait=True)\n",
    "    \n",
    "    stop_controllers()\n",
    "    stiffness = [10000.,10000.,10000., 10000.,10000.,10000.,10000]\n",
    "    set_joint_stiffness(stiffness)\n",
    "    start_controllers()\n"
   ]
  },
  {
   "cell_type": "code",
   "execution_count": 10,
   "metadata": {},
   "outputs": [],
   "source": [
    "from controller_manager_msgs.srv import SwitchController\n",
    "from controller_manager_msgs.srv import SwitchControllerRequest\n",
    "switch_controller = rospy.ServiceProxy('/controller_manager/switch_controller', SwitchController)\n",
    "\n",
    "def stop_controllers():\n",
    "    req = SwitchControllerRequest()\n",
    "    req.stop_controllers = ['franka_state_controller','position_joint_trajectory_controller']\n",
    "    switch_controller(req)\n",
    "    \n",
    "def start_controllers():\n",
    "    req = SwitchControllerRequest()\n",
    "    req.start_controllers = ['franka_state_controller','position_joint_trajectory_controller']\n",
    "    switch_controller(req)\n",
    "    \n"
   ]
  },
  {
   "cell_type": "code",
   "execution_count": 11,
   "metadata": {},
   "outputs": [],
   "source": [
    "from franka_msgs.srv import SetJointImpedance\n",
    "from franka_msgs.srv import SetJointImpedanceRequest\n",
    "set_joint_impedance = rospy.ServiceProxy('/franka_control/set_joint_impedance', SetJointImpedance)\n",
    "def set_joint_stiffness(stiffness):\n",
    "    req = SetJointImpedanceRequest()\n",
    "    req.joint_stiffness = stiffness\n",
    "    set_joint_impedance(req)\n",
    "    \n"
   ]
  },
  {
   "cell_type": "code",
   "execution_count": 45,
   "metadata": {},
   "outputs": [],
   "source": [
    "def rigid():\n",
    "    stop_controllers()\n",
    "    stiffness = [10000.,10000.,10000., 10000.,10000.,10000.,10000]\n",
    "    set_joint_stiffness(stiffness)\n",
    "    start_controllers()\n",
    "\n",
    "def soft():\n",
    "    stop_controllers()\n",
    "    stiffness = [100.,25.,100., 100.,100.,100.,100]\n",
    "    set_joint_stiffness(stiffness)\n",
    "    start_controllers()"
   ]
  },
  {
   "cell_type": "code",
   "execution_count": 44,
   "metadata": {},
   "outputs": [
    {
     "name": "stdout",
     "output_type": "stream",
     "text": [
      "publishing and latching message for 3.0 seconds\r\n"
     ]
    }
   ],
   "source": [
    "!rostopic pub -1 /franka_control/error_recovery/goal franka_msgs/ErrorRecoveryActionGoal \"{}\""
   ]
  },
  {
   "cell_type": "code",
   "execution_count": 160,
   "metadata": {},
   "outputs": [],
   "source": [
    "reset()"
   ]
  },
  {
   "cell_type": "code",
   "execution_count": 161,
   "metadata": {},
   "outputs": [],
   "source": [
    "go_to_button()"
   ]
  },
  {
   "cell_type": "code",
   "execution_count": 32,
   "metadata": {},
   "outputs": [
    {
     "name": "stdout",
     "output_type": "stream",
     "text": [
      "z 0.215225670063\n"
     ]
    }
   ],
   "source": [
    "push_button()"
   ]
  },
  {
   "cell_type": "code",
   "execution_count": 33,
   "metadata": {},
   "outputs": [],
   "source": [
    "def recover():\n",
    "    \n",
    "    !rostopic pub -1 /franka_control/error_recovery/goal franka_msgs/ErrorRecoveryActionGoal \"{}\"\n",
    "    "
   ]
  },
  {
   "cell_type": "code",
   "execution_count": 94,
   "metadata": {},
   "outputs": [],
   "source": [
    "joint_goal = move_group.get_current_joint_values()\n",
    "joint_goal[0] = 0 * pi /180\n",
    "joint_goal[1] = -79 * pi / 180\n",
    "joint_goal[2] = 13 * pi / 180\n",
    "joint_goal[3] = -139 * pi / 180\n",
    "joint_goal[4] = 0\n",
    "joint_goal[5] = 96 * pi / 180\n",
    "joint_goal[6] = 53 * pi / 180\n",
    "move_group.go(joint_goal, wait=True)\n",
    "\n",
    "\n",
    "# Calling ``stop()`` ensures that there is no residual movement\n",
    "move_group.stop()"
   ]
  },
  {
   "cell_type": "code",
   "execution_count": 93,
   "metadata": {},
   "outputs": [],
   "source": [
    "reset()"
   ]
  },
  {
   "cell_type": "code",
   "execution_count": 59,
   "metadata": {},
   "outputs": [],
   "source": [
    "def go_to_door():\n",
    "\n",
    "    #midgrip()\n",
    "    \n",
    "    move_group.set_max_velocity_scaling_factor(0.2)\n",
    "    move_group.set_max_acceleration_scaling_factor(0.2)\n",
    "\n",
    "    joint_goal = move_group.get_current_joint_values()\n",
    "    joint_goal[0] = -40 * pi /180\n",
    "    joint_goal[1] = -41 * pi / 180\n",
    "    joint_goal[2] = +81 * pi / 180\n",
    "    joint_goal[3] = -164 * pi / 180\n",
    "    joint_goal[4] = +65 * pi / 180\n",
    "    joint_goal[5] = +135 * pi / 180\n",
    "    joint_goal[6] = +29 * pi / 180\n",
    "    move_group.go(joint_goal, wait=True)\n",
    "\n",
    "\n",
    "    # Calling ``stop()`` ensures that there is no residual movement\n",
    "    move_group.stop()"
   ]
  },
  {
   "cell_type": "code",
   "execution_count": 88,
   "metadata": {},
   "outputs": [],
   "source": [
    "\n",
    "go_to_door()"
   ]
  },
  {
   "cell_type": "code",
   "execution_count": 104,
   "metadata": {},
   "outputs": [],
   "source": [
    "midgrip()"
   ]
  },
  {
   "cell_type": "code",
   "execution_count": 89,
   "metadata": {},
   "outputs": [],
   "source": [
    "def grab_door():\n",
    "\n",
    "    \n",
    "    midgrip(0.02)\n",
    "    \n",
    "    waypoints = []\n",
    "\n",
    "    wpose = move_group.get_current_pose().pose\n",
    "    print(\"z\",wpose.position.z)\n",
    "    wpose.position.z -= 0.028\n",
    "    waypoints.append(copy.deepcopy(wpose))\n",
    "    \n",
    "    (plan, fraction) = move_group.compute_cartesian_path(\n",
    "        waypoints, 0.01, 0.0  # waypoints to follow  # eef_step\n",
    "    )  # jump_threshold\n",
    "\n",
    "\n",
    "\n",
    "    new_plan=move_group.retime_trajectory(move_group.get_current_state(),\n",
    "                                 plan,velocity_scaling_factor=0.03,\n",
    "                                 acceleration_scaling_factor=0.06)\n",
    "    \n",
    "    move_group.execute(new_plan, wait=True)\n",
    "    \n",
    "    #############################3\n",
    "   \n",
    "    soft()\n",
    "    midgrip(0.005)\n",
    "    \n",
    "    waypoints = []\n",
    "    \n",
    "    wpose = move_group.get_current_pose().pose\n",
    "    print(\"z\",wpose.position.z)\n",
    "    wpose.position.z += 0.03  \n",
    "    waypoints.append(copy.deepcopy(wpose))\n",
    "\n",
    "    (plan, fraction) = move_group.compute_cartesian_path(\n",
    "        waypoints, 0.01, 0.0  # waypoints to follow  # eef_step\n",
    "    )  # jump_threshold\n",
    "\n",
    "\n",
    "\n",
    "    new_plan=move_group.retime_trajectory(move_group.get_current_state(),\n",
    "                                 plan,velocity_scaling_factor=0.03,\n",
    "                                 acceleration_scaling_factor=0.06)\n",
    "    \n",
    "    move_group.execute(new_plan, wait=True)\n",
    "    \n",
    "    #rigid()"
   ]
  },
  {
   "cell_type": "code",
   "execution_count": 90,
   "metadata": {},
   "outputs": [
    {
     "name": "stdout",
     "output_type": "stream",
     "text": [
      "z 0.231796494667\n",
      "z 0.204254035239\n"
     ]
    }
   ],
   "source": [
    "grab_door()"
   ]
  },
  {
   "cell_type": "code",
   "execution_count": 85,
   "metadata": {},
   "outputs": [
    {
     "name": "stdout",
     "output_type": "stream",
     "text": [
      "publishing and latching message for 3.0 seconds\r\n"
     ]
    }
   ],
   "source": [
    "recover()"
   ]
  },
  {
   "cell_type": "code",
   "execution_count": 86,
   "metadata": {},
   "outputs": [],
   "source": [
    "reset()\n"
   ]
  },
  {
   "cell_type": "code",
   "execution_count": 74,
   "metadata": {},
   "outputs": [],
   "source": [
    "ungrip()"
   ]
  },
  {
   "cell_type": "code",
   "execution_count": 87,
   "metadata": {},
   "outputs": [],
   "source": [
    "rigid()"
   ]
  },
  {
   "cell_type": "code",
   "execution_count": 61,
   "metadata": {},
   "outputs": [],
   "source": [
    "grip()"
   ]
  },
  {
   "cell_type": "code",
   "execution_count": null,
   "metadata": {},
   "outputs": [],
   "source": []
  }
 ],
 "metadata": {
  "kernelspec": {
   "display_name": "Python 2",
   "language": "python",
   "name": "python2"
  },
  "language_info": {
   "codemirror_mode": {
    "name": "ipython",
    "version": 2
   },
   "file_extension": ".py",
   "mimetype": "text/x-python",
   "name": "python",
   "nbconvert_exporter": "python",
   "pygments_lexer": "ipython2",
   "version": "2.7.17"
  }
 },
 "nbformat": 4,
 "nbformat_minor": 2
}

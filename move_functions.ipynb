{
 "cells": [
  {
   "cell_type": "code",
   "execution_count": 6,
   "metadata": {},
   "outputs": [],
   "source": [
    "# Python 2/3 compatibility imports\n",
    "from __future__ import print_function\n",
    "from six.moves import input\n",
    "\n",
    "\n",
    "import sys\n",
    "import time\n",
    "import copy\n",
    "import rospy\n",
    "import moveit_commander\n",
    "import moveit_msgs.msg\n",
    "import geometry_msgs.msg\n",
    "\n",
    "\n",
    "try:\n",
    "    from math import pi, tau, dist, fabs, cos\n",
    "except:  # For Python 2 compatibility\n",
    "    from math import pi, fabs, cos, sqrt\n",
    "\n",
    "    tau = 2.0 * pi\n",
    "\n",
    "    def dist(p, q):\n",
    "        return sqrt(sum((p_i - q_i) ** 2.0 for p_i, q_i in zip(p, q)))\n",
    "\n",
    "\n",
    "from std_msgs.msg import String\n",
    "from moveit_commander.conversions import pose_to_list\n",
    "\n",
    "from controller_manager_msgs.srv import SwitchController\n",
    "from controller_manager_msgs.srv import SwitchControllerRequest\n",
    "\n",
    "from franka_msgs.srv import SetJointImpedance\n",
    "from franka_msgs.srv import SetJointImpedanceRequest"
   ]
  },
  {
   "cell_type": "code",
   "execution_count": 7,
   "metadata": {},
   "outputs": [
    {
     "name": "stdout",
     "output_type": "stream",
     "text": [
      "================== Initialization Complete\n"
     ]
    }
   ],
   "source": [
    "\n",
    "moveit_commander.roscpp_initialize(sys.argv)\n",
    "rospy.init_node(\"move_group_python_interface_tutorial\", anonymous=True)\n",
    "\n",
    "robot = moveit_commander.RobotCommander()\n",
    "scene = moveit_commander.PlanningSceneInterface()\n",
    "\n",
    "group_name = \"panda_arm\"\n",
    "move_group = moveit_commander.MoveGroupCommander(group_name)\n",
    "\n",
    "group_name_hand = \"panda_hand\"\n",
    "move_group_hand = moveit_commander.MoveGroupCommander(group_name_hand)\n",
    "\n",
    "display_trajectory_publisher = rospy.Publisher(\n",
    "\"/move_group/display_planned_path\",\n",
    "moveit_msgs.msg.DisplayTrajectory,\n",
    "queue_size=20,\n",
    ")\n",
    "planning_frame = move_group.get_planning_frame()\n",
    "#print(\"============ Planning frame: %s\" % planning_frame)\n",
    "\n",
    "# We can also print the name of the end-effector link for this group:\n",
    "eef_link = move_group.get_end_effector_link()\n",
    "#print(\"============ End effector link: %s\" % eef_link)\n",
    "\n",
    "# We can get a list of all the groups in the robot:\n",
    "group_names = robot.get_group_names()\n",
    "#print(\"============ Available Planning Groups:\", robot.get_group_names())\n",
    "\n",
    "# Sometimes for debugging it is useful to print the entire state of the\n",
    "# robot:\n",
    "#print(\"============ Printing robot state\")\n",
    "#print(robot.get_current_state())\n",
    "\n",
    "switch_controller = rospy.ServiceProxy('/controller_manager/switch_controller', SwitchController)\n",
    "\n",
    "set_joint_impedance = rospy.ServiceProxy('/franka_control/set_joint_impedance', SetJointImpedance)\n",
    "print(\"================== Initialization Complete\")"
   ]
  },
  {
   "cell_type": "code",
   "execution_count": 28,
   "metadata": {},
   "outputs": [],
   "source": [
    "import actionlib\n",
    "from franka_gripper.msg import MoveAction, GraspAction, MoveGoal, GraspGoal\n",
    "gripper_move_client = actionlib.SimpleActionClient('/franka_gripper/move', MoveAction)\n",
    "gripper_grasp_client = actionlib.SimpleActionClient('/franka_gripper/grasp', GraspAction)"
   ]
  },
  {
   "cell_type": "code",
   "execution_count": 51,
   "metadata": {},
   "outputs": [
    {
     "data": {
      "text/plain": [
       "success: True\n",
       "error: ''"
      ]
     },
     "execution_count": 51,
     "metadata": {},
     "output_type": "execute_result"
    }
   ],
   "source": [
    "# fully open\n",
    "\n",
    "goal = MoveGoal()\n",
    "goal.width = 0.08\n",
    "goal.speed = 0.1\n",
    "gripper_move_client.send_goal_and_wait(goal)\n",
    "gripper_move_client.get_result()"
   ]
  },
  {
   "cell_type": "code",
   "execution_count": null,
   "metadata": {},
   "outputs": [],
   "source": []
  },
  {
   "cell_type": "code",
   "execution_count": 49,
   "metadata": {},
   "outputs": [],
   "source": [
    "# close on object\n",
    "def grab_object():\n",
    "    \n",
    "    goal = GraspGoal()\n",
    "    goal.width = 0.018\n",
    "    goal.epsilon.inner = 0.005\n",
    "    goal.epsilon.outer = 0.005\n",
    "    goal.speed = 0.1\n",
    "    goal.force = 10.\n",
    "    gripper_grasp_client.send_goal_and_wait(goal)\n",
    "    gripper_grasp_client.get_result()\n",
    "    print(\"================= Grab the Object\")"
   ]
  },
  {
   "cell_type": "code",
   "execution_count": 53,
   "metadata": {},
   "outputs": [],
   "source": [
    "grab_object()"
   ]
  },
  {
   "cell_type": "code",
   "execution_count": 20,
   "metadata": {},
   "outputs": [],
   "source": [
    "def recover():\n",
    "    \n",
    "    !rostopic pub -1 /franka_control/error_recovery/goal franka_msgs/ErrorRecoveryActionGoal \"{}\"\n",
    "    print(\"================== Recovered from Error\")\n",
    "    "
   ]
  },
  {
   "cell_type": "code",
   "execution_count": null,
   "metadata": {},
   "outputs": [],
   "source": [
    "def take_pic(time):\n",
    "    from sensor_msgs.msg import Image\n",
    "    img_rgb = rospy.wait_for_message(\"/camera/color/image_raw\",Image)\n",
    "    img_depth = rospy.wait_for_message(\"/camera/depth/image_rect_raw\",Image)\n",
    "\n",
    "    from cv_bridge import CvBridge\n",
    "    bridge = CvBridge()\n",
    "    cv_image_rgb = bridge.imgmsg_to_cv2(img_rgb, desired_encoding='passthrough')\n",
    "    cv_image_d = bridge.imgmsg_to_cv2(img_depth, desired_encoding='passthrough')\n",
    "\n",
    "    import matplotlib.pylab as plt\n",
    "    from matplotlib.pyplot import figure\n",
    "\n",
    "    figure(figsize=(20,20), dpi=80)\n",
    "    plt.imshow(cv_image_rgb)"
   ]
  },
  {
   "cell_type": "code",
   "execution_count": 4,
   "metadata": {},
   "outputs": [],
   "source": [
    "def set_vel(vel1=0.3, acc1=0.3, vel2=0.02, acc2=0.02):\n",
    "    move_group.set_max_velocity_scaling_factor(vel1)\n",
    "    move_group.set_max_acceleration_scaling_factor(acc1)\n",
    "    move_group_hand.set_max_velocity_scaling_factor(vel2)\n",
    "    move_group_hand.set_max_acceleration_scaling_factor(acc2)\n",
    "    \n",
    "    print(\"================== Joints speed: \" + str(vel1))\n",
    "    print(\"================== Joints acceleration: \" + str(acc1))\n",
    "    print(\"================== Hands speed: \" + str(vel2))\n",
    "    print(\"================== Hands acceleration: \" + str(acc2))"
   ]
  },
  {
   "cell_type": "code",
   "execution_count": 5,
   "metadata": {},
   "outputs": [],
   "source": [
    "def reset():\n",
    "    \n",
    "    move_group.set_max_velocity_scaling_factor(0.1)\n",
    "    move_group.set_max_acceleration_scaling_factor(0.1)\n",
    "    \n",
    "    midgrip(0.02)\n",
    "    \n",
    "    waypoints = []\n",
    "\n",
    "    wpose = move_group.get_current_pose().pose\n",
    "    wpose.position.x += 0  \n",
    "    wpose.position.y += 0\n",
    "    wpose.position.z += 0.1\n",
    "    waypoints.append(copy.deepcopy(wpose))\n",
    "\n",
    "    (plan, fraction) = move_group.compute_cartesian_path(\n",
    "        waypoints, 0.01, 0.0  # waypoints to follow  # eef_step\n",
    "    )  # jump_threshold\n",
    "\n",
    "    # Note: We are just planning, not asking move_group to actually move the robot yet:\n",
    "\n",
    "    new_plan=move_group.retime_trajectory(move_group.get_current_state(),\n",
    "                                 plan,velocity_scaling_factor=0.1,\n",
    "                                 acceleration_scaling_factor=0.1)\n",
    "    \n",
    "    #display_trajectory = moveit_msgs.msg.DisplayTrajectory()\n",
    "    #display_trajectory.trajectory_start = robot.get_current_state()\n",
    "    #display_trajectory.trajectory.append(new_plan)\n",
    "    # Publish\n",
    "    #display_trajectory_publisher.publish(display_trajectory)\n",
    "    \n",
    "    move_group.execute(new_plan, wait=True)\n",
    "  \n",
    "    joint_goal = move_group.get_current_joint_values()\n",
    "    joint_goal[0] = 0 * pi /180\n",
    "    joint_goal[1] = -48 * pi / 180\n",
    "    joint_goal[2] = 0 * pi / 180\n",
    "    joint_goal[3] = -153 * pi / 180\n",
    "    joint_goal[4] = 0\n",
    "    joint_goal[5] = 106 * pi / 180\n",
    "    joint_goal[6] = 44 * pi / 180\n",
    "\n",
    "    move_group.go(joint_goal, wait=True)\n",
    "\n",
    "    move_group.stop()\n",
    "    \n",
    "    print(\"================== Reset to home position\")"
   ]
  },
  {
   "cell_type": "code",
   "execution_count": 6,
   "metadata": {},
   "outputs": [],
   "source": [
    "def go_to_button():\n",
    "    \n",
    "    move_group.set_max_velocity_scaling_factor(0.1)\n",
    "    move_group.set_max_acceleration_scaling_factor(0.1)\n",
    "    \n",
    "    joint_goal = move_group.get_current_joint_values()\n",
    "    joint_goal[0] = -65 * pi /180\n",
    "    joint_goal[1] = -78 * pi / 180\n",
    "    joint_goal[2] = 91 * pi / 180\n",
    "    joint_goal[3] = -167 * pi / 180\n",
    "    joint_goal[4] = 88 * pi / 180\n",
    "    joint_goal[5] = 103 * pi / 180\n",
    "    joint_goal[6] = -6 * pi / 180\n",
    "    \n",
    "    move_group.go(joint_goal, wait=True)\n",
    "    \n",
    "    move_group.stop()\n",
    "    \n",
    "    print(\"================== Arm at button now\")"
   ]
  },
  {
   "cell_type": "code",
   "execution_count": 7,
   "metadata": {},
   "outputs": [],
   "source": [
    "def grip():\n",
    "    hand_goal = move_group_hand.get_current_joint_values()\n",
    "    \n",
    "    hand_goal[0] = 0\n",
    "    move_group_hand.go(hand_goal, wait=True)\n",
    "    \n",
    "    move_group_hand.stop()\n",
    "    \n",
    "    print(\"================== Hands gripped\")\n",
    "    \n",
    "\n",
    "def ungrip():\n",
    "    hand_goal = move_group_hand.get_current_joint_values()\n",
    "    \n",
    "    hand_goal[0] = 0.039\n",
    "    move_group_hand.go(hand_goal, wait=True)\n",
    "    \n",
    "    move_group_hand.stop()\n",
    "    \n",
    "    print(\"================== Hands ungripped\")\n",
    "\n",
    "def midgrip(dist):\n",
    "    hand_goal = move_group_hand.get_current_joint_values()\n",
    "    \n",
    "    hand_goal[0] = dist\n",
    "    move_group_hand.go(hand_goal, wait=True)\n",
    "    \n",
    "    move_group_hand.stop()\n",
    "    \n",
    "    print(\"================== Hands gripped to \" + str(dist))"
   ]
  },
  {
   "cell_type": "code",
   "execution_count": 8,
   "metadata": {},
   "outputs": [],
   "source": [
    "def move_cart(x,y,z):\n",
    "    waypoints = []\n",
    "\n",
    "    wpose = move_group.get_current_pose().pose\n",
    "    wpose.position.x -= x  \n",
    "    wpose.position.y -= y  \n",
    "    wpose.position.z -= z  \n",
    "    waypoints.append(copy.deepcopy(wpose))\n",
    "\n",
    "    (plan, fraction) = move_group.compute_cartesian_path(\n",
    "        waypoints, 0.01, 0.0  # waypoints to follow  # eef_step\n",
    "    )  # jump_threshold\n",
    "\n",
    "    # Note: We are just planning, not asking move_group to actually move the robot yet:\n",
    "\n",
    "    new_plan=move_group.retime_trajectory(move_group.get_current_state(),\n",
    "                                 plan,velocity_scaling_factor=0.1,\n",
    "                                 acceleration_scaling_factor=0.1)\n",
    "    \n",
    "    #display_trajectory = moveit_msgs.msg.DisplayTrajectory()\n",
    "    #display_trajectory.trajectory_start = robot.get_current_state()\n",
    "    #display_trajectory.trajectory.append(new_plan)\n",
    "    # Publish\n",
    "    #display_trajectory_publisher.publish(display_trajectory)\n",
    "    \n",
    "    move_group.execute(new_plan, wait=True)"
   ]
  },
  {
   "cell_type": "code",
   "execution_count": 21,
   "metadata": {},
   "outputs": [
    {
     "name": "stdout",
     "output_type": "stream",
     "text": [
      "publishing and latching message for 3.0 seconds\n",
      "================== Recovered from Error\n"
     ]
    }
   ],
   "source": [
    "recover()"
   ]
  },
  {
   "cell_type": "code",
   "execution_count": 50,
   "metadata": {},
   "outputs": [],
   "source": [
    "move_cart(0.00,0.00,-0.005)"
   ]
  },
  {
   "cell_type": "code",
   "execution_count": 9,
   "metadata": {},
   "outputs": [],
   "source": [
    "def push_button():\n",
    "\n",
    "    ungrip()\n",
    "    print(\"================== Adjusting to soft stiffness\")\n",
    "    \n",
    "    soft()\n",
    "    grip()\n",
    "    print(\"================== Stiffness adjustion complete\")\n",
    "    \n",
    "    \n",
    "    waypoints = []\n",
    "\n",
    "    wpose = move_group.get_current_pose().pose\n",
    "    print(\"z\",wpose.position.z)\n",
    "    \n",
    "    wpose.position.z -= 0.016\n",
    "    waypoints.append(copy.deepcopy(wpose))\n",
    "\n",
    "    wpose.position.z += 0.05  \n",
    "    waypoints.append(copy.deepcopy(wpose))\n",
    "\n",
    "    (plan, fraction) = move_group.compute_cartesian_path(\n",
    "        waypoints, 0.01, 0.0  # waypoints to follow  # eef_step\n",
    "    )  # jump_threshold\n",
    "\n",
    "\n",
    "\n",
    "    new_plan=move_group.retime_trajectory(move_group.get_current_state(),\n",
    "                                 plan,velocity_scaling_factor=0.03,\n",
    "                                 acceleration_scaling_factor=0.06)\n",
    "    \n",
    "    move_group.execute(new_plan, wait=True)\n",
    "    \n",
    "    print(\"================== Adjusting to rigid stiffness\")\n",
    "    rigid()\n",
    "    \n",
    "    print(\"================== Stiffness adjustion complete\")\n",
    "\n"
   ]
  },
  {
   "cell_type": "code",
   "execution_count": 10,
   "metadata": {},
   "outputs": [],
   "source": [
    "def stop_controllers():\n",
    "    req = SwitchControllerRequest()\n",
    "    req.stop_controllers = ['franka_state_controller','position_joint_trajectory_controller']\n",
    "    switch_controller(req)\n",
    "    \n",
    "def start_controllers():\n",
    "    req = SwitchControllerRequest()\n",
    "    req.start_controllers = ['franka_state_controller','position_joint_trajectory_controller']\n",
    "    switch_controller(req)\n",
    "\n",
    "def set_joint_stiffness(stiffness):\n",
    "    req = SetJointImpedanceRequest()\n",
    "    req.joint_stiffness = stiffness\n",
    "    set_joint_impedance(req)\n",
    "    \n",
    "def rigid():\n",
    "    stop_controllers()\n",
    "    stiffness = [10000.,10000.,10000., 10000.,10000.,10000.,10000]\n",
    "    set_joint_stiffness(stiffness)\n",
    "    start_controllers()\n",
    "\n",
    "def soft():\n",
    "    stop_controllers()\n",
    "    stiffness = [100.,25.,100., 100.,100.,100.,100]\n",
    "    set_joint_stiffness(stiffness)\n",
    "    start_controllers()"
   ]
  },
  {
   "cell_type": "code",
   "execution_count": 11,
   "metadata": {},
   "outputs": [],
   "source": [
    "def go_to_door():\n",
    "    \n",
    "    move_group.set_max_velocity_scaling_factor(0.2)\n",
    "    move_group.set_max_acceleration_scaling_factor(0.2)\n",
    "\n",
    "    joint_goal = move_group.get_current_joint_values()\n",
    "    joint_goal[0] = -40 * pi /180\n",
    "    joint_goal[1] = -41 * pi / 180\n",
    "    joint_goal[2] = +81 * pi / 180\n",
    "    joint_goal[3] = -164 * pi / 180\n",
    "    joint_goal[4] = +65 * pi / 180\n",
    "    joint_goal[5] = +135 * pi / 180\n",
    "    joint_goal[6] = +29 * pi / 180\n",
    "    \n",
    "    move_group.go(joint_goal, wait=True)\n",
    "    move_group.stop()\n",
    "    \n",
    "    print(\"================== Arm at door\")\n"
   ]
  },
  {
   "cell_type": "code",
   "execution_count": 12,
   "metadata": {},
   "outputs": [],
   "source": [
    "def grab_door():\n",
    "\n",
    "    \n",
    "\n",
    "    \n",
    "    midgrip(0.02)\n",
    "    print(\"================== Ready to grip\")\n",
    "    \n",
    "    waypoints = []\n",
    "\n",
    "    wpose = move_group.get_current_pose().pose\n",
    "    print(\"z\",wpose.position.z)\n",
    "    wpose.position.z -= 0.028\n",
    "    waypoints.append(copy.deepcopy(wpose))\n",
    "    \n",
    "    (plan, fraction) = move_group.compute_cartesian_path(\n",
    "        waypoints, 0.01, 0.0  # waypoints to follow  # eef_step\n",
    "    )  # jump_threshold\n",
    "\n",
    "    \n",
    "\n",
    "    new_plan=move_group.retime_trajectory(move_group.get_current_state(),\n",
    "                                 plan,velocity_scaling_factor=0.03,\n",
    "                                 acceleration_scaling_factor=0.06)\n",
    "    \n",
    "    print(\"================== Moving down\")\n",
    "    \n",
    "    move_group.execute(new_plan, wait=True)\n",
    "    \n",
    "    print(\"================== Adjusting stiffness to soft\")\n",
    "\n",
    "   \n",
    "    soft()\n",
    "    \n",
    "    print(\"================== Stiffness adjustion complete\")\n",
    "\n",
    "    midgrip(0.01)\n",
    "    \n",
    "    print(\"================== Hands gripped\")\n",
    "    \n",
    "    waypoints = []\n",
    "    \n",
    "    wpose = move_group.get_current_pose().pose\n",
    "    print(\"z\",wpose.position.z)\n",
    "    wpose.position.z += 0.03  \n",
    "    waypoints.append(copy.deepcopy(wpose))\n",
    "\n",
    "    (plan, fraction) = move_group.compute_cartesian_path(\n",
    "        waypoints, 0.01, 0.0  # waypoints to follow  # eef_step\n",
    "    )  # jump_threshold\n",
    "\n",
    "\n",
    "\n",
    "    new_plan=move_group.retime_trajectory(move_group.get_current_state(),\n",
    "                                 plan,velocity_scaling_factor=0.03,\n",
    "                                 acceleration_scaling_factor=0.06)\n",
    "    \n",
    "    print(\"================== Moving up stage 1\")\n",
    "    \n",
    "    move_group.execute(new_plan, wait=True)\n",
    "    \n",
    "    #########################\n",
    "    set_vel(vel1=0.01, acc1=0.01, vel2=0.02, acc2=0.02)\n",
    "    \n",
    "    joint_goal = move_group.get_current_joint_values()\n",
    "    joint_goal[0] = -0.3204\n",
    "    joint_goal[1] = -1.0127\n",
    "    joint_goal[2] = +1.6042\n",
    "    joint_goal[3] = -3.0560\n",
    "    joint_goal[4] = +1.6204\n",
    "    joint_goal[5] = +2.5304\n",
    "    joint_goal[6] = +0.5540\n",
    "    \n",
    "    print(\"================== Moving up stage 2\")\n",
    "    \n",
    "    move_group.go(joint_goal, wait=True)\n",
    "    move_group.stop()\n",
    "    \n",
    "    \n",
    "    ungrip()\n",
    "    \n",
    "    print(\"================== Adjusting stiffness to rigid\")\n",
    "    \n",
    "    \n",
    "    rigid()\n",
    "    \n",
    "    print(\"================== Stiffness adjustion complete\")\n"
   ]
  },
  {
   "cell_type": "code",
   "execution_count": 13,
   "metadata": {},
   "outputs": [
    {
     "name": "stdout",
     "output_type": "stream",
     "text": [
      "================== Joints speed: 0.3\n",
      "================== Joints acceleration: 0.3\n",
      "================== Hands speed: 0.02\n",
      "================== Hands acceleration: 0.02\n"
     ]
    }
   ],
   "source": [
    "#initialization()\n",
    "set_vel()"
   ]
  },
  {
   "cell_type": "code",
   "execution_count": 16,
   "metadata": {},
   "outputs": [
    {
     "name": "stdout",
     "output_type": "stream",
     "text": [
      "publishing and latching message for 3.0 seconds\n",
      "================== Recovered from Error\n"
     ]
    }
   ],
   "source": [
    "recover()"
   ]
  },
  {
   "cell_type": "code",
   "execution_count": 19,
   "metadata": {},
   "outputs": [
    {
     "name": "stdout",
     "output_type": "stream",
     "text": [
      "================== Hands gripped to 0.02\n",
      "================== Reset to home position\n"
     ]
    }
   ],
   "source": [
    "reset()"
   ]
  },
  {
   "cell_type": "code",
   "execution_count": 18,
   "metadata": {},
   "outputs": [
    {
     "name": "stdout",
     "output_type": "stream",
     "text": [
      "================== Arm at button now\n"
     ]
    }
   ],
   "source": [
    "go_to_button()"
   ]
  },
  {
   "cell_type": "code",
   "execution_count": 30,
   "metadata": {},
   "outputs": [
    {
     "data": {
      "text/plain": [
       "header: \n",
       "  seq: 0\n",
       "  stamp: \n",
       "    secs: 1681332084\n",
       "    nsecs:  97629070\n",
       "  frame_id: \"panda_link0\"\n",
       "pose: \n",
       "  position: \n",
       "    x: 0.297374955619\n",
       "    y: 0.000183468011033\n",
       "    z: 0.215219782794\n",
       "  orientation: \n",
       "    x: 0.921607821385\n",
       "    y: -0.388000586845\n",
       "    z: 0.00735878053458\n",
       "    w: 0.00635739872174"
      ]
     },
     "execution_count": 30,
     "metadata": {},
     "output_type": "execute_result"
    }
   ],
   "source": [
    "move_group.get_current_pose()"
   ]
  },
  {
   "cell_type": "code",
   "execution_count": 22,
   "metadata": {},
   "outputs": [
    {
     "name": "stdout",
     "output_type": "stream",
     "text": [
      "================== Hands ungripped\n",
      "================== Adjusting to soft stiffness\n",
      "================== Hands gripped\n",
      "================== Stiffness adjustion complete\n",
      "z 0.477459718861\n",
      "================== Adjusting to rigid stiffness\n",
      "================== Stiffness adjustion complete\n"
     ]
    }
   ],
   "source": [
    "push_button()"
   ]
  },
  {
   "cell_type": "code",
   "execution_count": 31,
   "metadata": {},
   "outputs": [
    {
     "name": "stdout",
     "output_type": "stream",
     "text": [
      "================== Arm at door\n"
     ]
    }
   ],
   "source": [
    "go_to_door()"
   ]
  },
  {
   "cell_type": "code",
   "execution_count": 32,
   "metadata": {},
   "outputs": [
    {
     "data": {
      "text/plain": [
       "header: \n",
       "  seq: 0\n",
       "  stamp: \n",
       "    secs: 1681332092\n",
       "    nsecs: 531099081\n",
       "  frame_id: \"panda_link0\"\n",
       "pose: \n",
       "  position: \n",
       "    x: 0.294594800611\n",
       "    y: 0.142231506462\n",
       "    z: 0.231712613918\n",
       "  orientation: \n",
       "    x: -0.917385701368\n",
       "    y: 0.397934537487\n",
       "    z: -0.00670234692489\n",
       "    w: 0.0025801832939"
      ]
     },
     "execution_count": 32,
     "metadata": {},
     "output_type": "execute_result"
    }
   ],
   "source": [
    "move_group.get_current_pose()"
   ]
  },
  {
   "cell_type": "code",
   "execution_count": 24,
   "metadata": {},
   "outputs": [
    {
     "name": "stdout",
     "output_type": "stream",
     "text": [
      "================== Hands gripped to 0.02\n",
      "================== Ready to grip\n",
      "z 0.23178706058\n",
      "================== Moving down\n",
      "================== Adjusting stiffness to soft\n",
      "================== Stiffness adjustion complete\n",
      "================== Hands gripped to 0.01\n",
      "================== Hands gripped\n",
      "z 0.203500115312\n",
      "================== Moving up stage 1\n",
      "================== Joints speed: 0.01\n",
      "================== Joints acceleration: 0.01\n",
      "================== Hands speed: 0.02\n",
      "================== Hands acceleration: 0.02\n",
      "================== Moving up stage 2\n",
      "================== Hands ungripped\n",
      "================== Adjusting stiffness to rigid\n",
      "================== Stiffness adjustion complete\n"
     ]
    }
   ],
   "source": [
    "grab_door()"
   ]
  },
  {
   "cell_type": "code",
   "execution_count": 120,
   "metadata": {},
   "outputs": [
    {
     "data": {
      "text/plain": [
       "[-0.9841372454375551,\n",
       " -1.756996111032132,\n",
       " 1.7448990276905547,\n",
       " -2.9297922391188913,\n",
       " 1.803315358771218,\n",
       " 1.4854067503167867,\n",
       " 0.02055651079769826]"
      ]
     },
     "execution_count": 120,
     "metadata": {},
     "output_type": "execute_result"
    }
   ],
   "source": [
    "move_group.get_current_joint_values()"
   ]
  },
  {
   "cell_type": "code",
   "execution_count": null,
   "metadata": {},
   "outputs": [],
   "source": []
  },
  {
   "cell_type": "code",
   "execution_count": 4,
   "metadata": {},
   "outputs": [
    {
     "data": {
      "text/plain": [
       "[-1.1331192768665788,\n",
       " -1.103127744380191,\n",
       " 1.607523641636495,\n",
       " -2.8604405216132456,\n",
       " 1.415821283561884,\n",
       " 2.0169349999957564,\n",
       " -0.0020888187022506293]"
      ]
     },
     "execution_count": 4,
     "metadata": {},
     "output_type": "execute_result"
    }
   ],
   "source": [
    "move_group.get_current_joint_values()"
   ]
  },
  {
   "cell_type": "code",
   "execution_count": 113,
   "metadata": {},
   "outputs": [
    {
     "name": "stdout",
     "output_type": "stream",
     "text": [
      "================== Hands ungripped\n"
     ]
    }
   ],
   "source": [
    "ungrip()"
   ]
  },
  {
   "cell_type": "code",
   "execution_count": 109,
   "metadata": {},
   "outputs": [
    {
     "name": "stdout",
     "output_type": "stream",
     "text": [
      "================== Moving up stage 2\n"
     ]
    }
   ],
   "source": [
    "joint_goal = move_group.get_current_joint_values()\n",
    "joint_goal[0] = -0.3204\n",
    "joint_goal[1] = -1.0127\n",
    "joint_goal[2] = +1.6042\n",
    "joint_goal[3] = -3.0560\n",
    "joint_goal[4] = +1.6204\n",
    "joint_goal[5] = +2.5304\n",
    "joint_goal[6] = +0.5540\n",
    "\n",
    "print(\"================== Moving up stage 2\")\n",
    "\n",
    "move_group.go(joint_goal, wait=True)\n",
    "move_group.stop()\n"
   ]
  },
  {
   "cell_type": "code",
   "execution_count": 5,
   "metadata": {},
   "outputs": [
    {
     "data": {
      "text/plain": [
       "header: \n",
       "  seq: 0\n",
       "  stamp: \n",
       "    secs: 1681331297\n",
       "    nsecs: 630969047\n",
       "  frame_id: \"panda_link0\"\n",
       "pose: \n",
       "  position: \n",
       "    x: 0.309426437512\n",
       "    y: 0.0280141023692\n",
       "    z: 0.202691574409\n",
       "  orientation: \n",
       "    x: 0.921844726067\n",
       "    y: -0.386848185563\n",
       "    z: -0.0145063418546\n",
       "    w: 0.0184485336712"
      ]
     },
     "execution_count": 5,
     "metadata": {},
     "output_type": "execute_result"
    }
   ],
   "source": [
    "move_group.get_current_pose()"
   ]
  },
  {
   "cell_type": "code",
   "execution_count": null,
   "metadata": {},
   "outputs": [],
   "source": []
  },
  {
   "cell_type": "code",
   "execution_count": null,
   "metadata": {},
   "outputs": [],
   "source": []
  },
  {
   "cell_type": "code",
   "execution_count": null,
   "metadata": {},
   "outputs": [],
   "source": []
  },
  {
   "cell_type": "code",
   "execution_count": null,
   "metadata": {},
   "outputs": [],
   "source": []
  },
  {
   "cell_type": "code",
   "execution_count": null,
   "metadata": {},
   "outputs": [],
   "source": []
  },
  {
   "cell_type": "code",
   "execution_count": null,
   "metadata": {},
   "outputs": [],
   "source": []
  },
  {
   "cell_type": "code",
   "execution_count": null,
   "metadata": {},
   "outputs": [],
   "source": []
  },
  {
   "cell_type": "code",
   "execution_count": null,
   "metadata": {},
   "outputs": [],
   "source": []
  },
  {
   "cell_type": "code",
   "execution_count": null,
   "metadata": {},
   "outputs": [],
   "source": []
  },
  {
   "cell_type": "code",
   "execution_count": null,
   "metadata": {},
   "outputs": [],
   "source": []
  },
  {
   "cell_type": "code",
   "execution_count": null,
   "metadata": {},
   "outputs": [],
   "source": []
  },
  {
   "cell_type": "code",
   "execution_count": null,
   "metadata": {},
   "outputs": [],
   "source": []
  },
  {
   "cell_type": "code",
   "execution_count": null,
   "metadata": {},
   "outputs": [],
   "source": []
  },
  {
   "cell_type": "code",
   "execution_count": null,
   "metadata": {},
   "outputs": [],
   "source": []
  },
  {
   "cell_type": "code",
   "execution_count": null,
   "metadata": {},
   "outputs": [],
   "source": []
  },
  {
   "cell_type": "code",
   "execution_count": 40,
   "metadata": {},
   "outputs": [],
   "source": [
    "import eigenpy\n",
    "import numpy"
   ]
  },
  {
   "cell_type": "code",
   "execution_count": 37,
   "metadata": {},
   "outputs": [
    {
     "name": "stdout",
     "output_type": "stream",
     "text": [
      "Help on class AngleAxis in module eigenpy.eigenpy_pywrap:\n",
      "\n",
      "class AngleAxis(Boost.Python.instance)\n",
      " |  AngleAxis representation of a rotation.\n",
      " |  \n",
      " |  Method resolution order:\n",
      " |      AngleAxis\n",
      " |      Boost.Python.instance\n",
      " |      __builtin__.object\n",
      " |  \n",
      " |  Methods defined here:\n",
      " |  \n",
      " |  __eq__(...)\n",
      " |      __eq__( (AngleAxis)arg1, (AngleAxis)arg2) -> bool :\n",
      " |      \n",
      " |          C++ signature :\n",
      " |              bool __eq__(Eigen::AngleAxis<double>,Eigen::AngleAxis<double>)\n",
      " |  \n",
      " |  __init__(...)\n",
      " |      __init__( (object)self) -> None :\n",
      " |          Default constructor\n",
      " |      \n",
      " |          C++ signature :\n",
      " |              void __init__(_object*)\n",
      " |      \n",
      " |      __init__( (object)self, (float)angle, (numpy.ndarray)axis) -> None :\n",
      " |          Initialize from angle and axis.\n",
      " |      \n",
      " |          C++ signature :\n",
      " |              void __init__(_object*,double,Eigen::Matrix<double, 3, 1, 0, 3, 1>)\n",
      " |      \n",
      " |      __init__( (object)self, (numpy.ndarray)R) -> None :\n",
      " |          Initialize from a rotation matrix\n",
      " |      \n",
      " |          C++ signature :\n",
      " |              void __init__(_object*,Eigen::Matrix<double, 3, 3, 0, 3, 3>)\n",
      " |      \n",
      " |      __init__( (object)self, (Quaternion)quaternion) -> None :\n",
      " |          Initialize from a quaternion.\n",
      " |      \n",
      " |          C++ signature :\n",
      " |              void __init__(_object*,Eigen::Quaternion<double, 0>)\n",
      " |      \n",
      " |      __init__( (object)self, (AngleAxis)copy) -> None :\n",
      " |          Copy constructor.\n",
      " |      \n",
      " |          C++ signature :\n",
      " |              void __init__(_object*,Eigen::AngleAxis<double>)\n",
      " |  \n",
      " |  __mul__(...)\n",
      " |      __mul__( (AngleAxis)arg1, (numpy.ndarray)arg2) -> object :\n",
      " |      \n",
      " |          C++ signature :\n",
      " |              _object* __mul__(Eigen::AngleAxis<double> {lvalue},Eigen::Matrix<double, 3, 1, 0, 3, 1>)\n",
      " |      \n",
      " |      __mul__( (AngleAxis)arg1, (Quaternion)arg2) -> object :\n",
      " |      \n",
      " |          C++ signature :\n",
      " |              _object* __mul__(Eigen::AngleAxis<double> {lvalue},Eigen::Quaternion<double, 0>)\n",
      " |      \n",
      " |      __mul__( (AngleAxis)arg1, (AngleAxis)arg2) -> object :\n",
      " |      \n",
      " |          C++ signature :\n",
      " |              _object* __mul__(Eigen::AngleAxis<double> {lvalue},Eigen::AngleAxis<double>)\n",
      " |  \n",
      " |  __ne__(...)\n",
      " |      __ne__( (AngleAxis)arg1, (AngleAxis)arg2) -> bool :\n",
      " |      \n",
      " |          C++ signature :\n",
      " |              bool __ne__(Eigen::AngleAxis<double>,Eigen::AngleAxis<double>)\n",
      " |  \n",
      " |  __reduce__ = <unnamed Boost.Python function>(...)\n",
      " |  \n",
      " |  __repr__(...)\n",
      " |      __repr__( (AngleAxis)arg1) -> str :\n",
      " |      \n",
      " |          C++ signature :\n",
      " |              std::__cxx11::basic_string<char, std::char_traits<char>, std::allocator<char> > __repr__(Eigen::AngleAxis<double>)\n",
      " |  \n",
      " |  __str__(...)\n",
      " |      __str__( (AngleAxis)arg1) -> str :\n",
      " |      \n",
      " |          C++ signature :\n",
      " |              std::__cxx11::basic_string<char, std::char_traits<char>, std::allocator<char> > __str__(Eigen::AngleAxis<double>)\n",
      " |  \n",
      " |  fromRotationMatrix(...)\n",
      " |      fromRotationMatrix( (AngleAxis)self, (numpy.ndarray)rotation matrix) -> AngleAxis :\n",
      " |          Sets *this from a 3x3 rotation matrix\n",
      " |      \n",
      " |          C++ signature :\n",
      " |              Eigen::AngleAxis<double> {lvalue} fromRotationMatrix(Eigen::AngleAxis<double> {lvalue},Eigen::MatrixBase<Eigen::Matrix<double, 3, 3, 0, 3, 3> >)\n",
      " |  \n",
      " |  inverse(...)\n",
      " |      inverse( (AngleAxis)self) -> AngleAxis :\n",
      " |          Return the inverse rotation.\n",
      " |      \n",
      " |          C++ signature :\n",
      " |              Eigen::AngleAxis<double> inverse(Eigen::AngleAxis<double> {lvalue})\n",
      " |  \n",
      " |  isApprox(...)\n",
      " |      isApprox( (AngleAxis)self, (AngleAxis)other [, (float)prec]) -> bool :\n",
      " |          Returns true if *this is approximately equal to other, within the precision determined by prec.\n",
      " |      \n",
      " |          C++ signature :\n",
      " |              bool isApprox(Eigen::AngleAxis<double>,Eigen::AngleAxis<double> [,double])\n",
      " |  \n",
      " |  matrix(...)\n",
      " |      matrix( (AngleAxis)self) -> numpy.ndarray :\n",
      " |          Returns an equivalent rotation matrix.\n",
      " |      \n",
      " |          C++ signature :\n",
      " |              Eigen::Matrix<double, 3, 3, 0, 3, 3> matrix(Eigen::AngleAxis<double> {lvalue})\n",
      " |  \n",
      " |  toRotationMatrix(...)\n",
      " |      toRotationMatrix( (AngleAxis)arg1) -> numpy.ndarray :\n",
      " |          Constructs and returns an equivalent rotation matrix.\n",
      " |      \n",
      " |          C++ signature :\n",
      " |              Eigen::Matrix<double, 3, 3, 0, 3, 3> toRotationMatrix(Eigen::AngleAxis<double> {lvalue})\n",
      " |  \n",
      " |  ----------------------------------------------------------------------\n",
      " |  Data descriptors defined here:\n",
      " |  \n",
      " |  angle\n",
      " |      The rotation angle.\n",
      " |  \n",
      " |  axis\n",
      " |      The rotation axis.\n",
      " |  \n",
      " |  ----------------------------------------------------------------------\n",
      " |  Data descriptors inherited from Boost.Python.instance:\n",
      " |  \n",
      " |  __dict__\n",
      " |  \n",
      " |  __weakref__\n",
      " |  \n",
      " |  ----------------------------------------------------------------------\n",
      " |  Data and other attributes inherited from Boost.Python.instance:\n",
      " |  \n",
      " |  __new__ = <built-in method __new__ of Boost.Python.class object>\n",
      " |      T.__new__(S, ...) -> a new object with type S, a subtype of T\n",
      "\n"
     ]
    }
   ],
   "source": [
    "help(eigenpy.AngleAxis)"
   ]
  },
  {
   "cell_type": "code",
   "execution_count": 48,
   "metadata": {},
   "outputs": [],
   "source": [
    "axis = numpy.array([[0.,0.,1.]])\n",
    "aa = eigenpy.AngleAxis(0.1,axis.T)"
   ]
  },
  {
   "cell_type": "code",
   "execution_count": 49,
   "metadata": {},
   "outputs": [
    {
     "data": {
      "text/plain": [
       "array([[ 0.99500417, -0.09983342,  0.        ],\n",
       "       [ 0.09983342,  0.99500417,  0.        ],\n",
       "       [ 0.        ,  0.        ,  1.        ]])"
      ]
     },
     "execution_count": 49,
     "metadata": {},
     "output_type": "execute_result"
    }
   ],
   "source": [
    "aa.matrix()"
   ]
  },
  {
   "cell_type": "code",
   "execution_count": 50,
   "metadata": {},
   "outputs": [
    {
     "name": "stdout",
     "output_type": "stream",
     "text": [
      "Help on class Quaternion in module eigenpy.eigenpy_pywrap:\n",
      "\n",
      "class Quaternion(Boost.Python.instance)\n",
      " |  Quaternion representing rotation.\n",
      " |  \n",
      " |  Supported operations ('q is a Quaternion, 'v' is a Vector3): 'q*q' (rotation composition), 'q*=q', 'q*v' (rotating 'v' by 'q'), 'q==q', 'q!=q', 'q[0..3]'.\n",
      " |  \n",
      " |  Method resolution order:\n",
      " |      Quaternion\n",
      " |      Boost.Python.instance\n",
      " |      __builtin__.object\n",
      " |  \n",
      " |  Methods defined here:\n",
      " |  \n",
      " |  __abs__(...)\n",
      " |      __abs__( (Quaternion)arg1) -> float :\n",
      " |      \n",
      " |          C++ signature :\n",
      " |              double __abs__(Eigen::Quaternion<double, 0> {lvalue})\n",
      " |  \n",
      " |  __eq__(...)\n",
      " |      __eq__( (Quaternion)arg1, (Quaternion)arg2) -> bool :\n",
      " |      \n",
      " |          C++ signature :\n",
      " |              bool __eq__(Eigen::Quaternion<double, 0>,Eigen::Quaternion<double, 0>)\n",
      " |  \n",
      " |  __getitem__(...)\n",
      " |      __getitem__( (Quaternion)arg1, (int)arg2) -> float :\n",
      " |      \n",
      " |          C++ signature :\n",
      " |              double __getitem__(Eigen::Quaternion<double, 0>,int)\n",
      " |  \n",
      " |  __imul__(...)\n",
      " |      __imul__( (object)arg1, (Quaternion)arg2) -> object :\n",
      " |      \n",
      " |          C++ signature :\n",
      " |              _object* __imul__(boost::python::back_reference<Eigen::Quaternion<double, 0>&>,Eigen::Quaternion<double, 0>)\n",
      " |  \n",
      " |  __init__(...)\n",
      " |      __init__( (object)arg1, (numpy.ndarray)R) -> object :\n",
      " |          Initialize from rotation matrix.\n",
      " |              R : a rotation matrix 3x3.\n",
      " |      \n",
      " |          C++ signature :\n",
      " |              void* __init__(boost::python::api::object,Eigen::Ref<Eigen::Matrix<double, 3, 3, 0, 3, 3> const, 0, Eigen::OuterStride<-1> >)\n",
      " |      \n",
      " |      __init__( (object)arg1, (AngleAxis)aa) -> object :\n",
      " |          Initialize from an angle axis.\n",
      " |              aa: angle axis object.\n",
      " |      \n",
      " |          C++ signature :\n",
      " |              void* __init__(boost::python::api::object,Eigen::AngleAxis<double>)\n",
      " |      \n",
      " |      __init__( (object)arg1, (Quaternion)quat) -> object :\n",
      " |          Copy constructor.\n",
      " |              quat: a quaternion.\n",
      " |      \n",
      " |          C++ signature :\n",
      " |              void* __init__(boost::python::api::object,Eigen::Quaternion<double, 0>)\n",
      " |      \n",
      " |      __init__( (object)arg1, (numpy.ndarray)u, (numpy.ndarray)v) -> object :\n",
      " |          Initialize from two vectors u and v\n",
      " |      \n",
      " |          C++ signature :\n",
      " |              void* __init__(boost::python::api::object,Eigen::Ref<Eigen::Matrix<double, 3, 1, 0, 3, 1> const, 0, Eigen::InnerStride<1> >,Eigen::Ref<Eigen::Matrix<double, 3, 1, 0, 3, 1> const, 0, Eigen::InnerStride<1> >)\n",
      " |      \n",
      " |      __init__( (object)arg1, (numpy.ndarray)vec4) -> object :\n",
      " |          Initialize from a vector 4D.\n",
      " |              vec4 : a 4D vector representing quaternion coefficients in the order xyzw.\n",
      " |      \n",
      " |          C++ signature :\n",
      " |              void* __init__(boost::python::api::object,Eigen::Ref<Eigen::Matrix<double, 4, 1, 0, 4, 1> const, 0, Eigen::InnerStride<1> >)\n",
      " |      \n",
      " |      __init__( (object)arg1) -> object :\n",
      " |          Default constructor\n",
      " |      \n",
      " |          C++ signature :\n",
      " |              void* __init__(boost::python::api::object)\n",
      " |      \n",
      " |      __init__( (object)arg1, (float)w, (float)x, (float)y, (float)z) -> object :\n",
      " |          Initialize from coefficients.\n",
      " |          \n",
      " |          ... note:: The order of coefficients is *w*, *x*, *y*, *z*. The [] operator numbers them differently, 0...4 for *x* *y* *z* *w*!\n",
      " |      \n",
      " |          C++ signature :\n",
      " |              void* __init__(boost::python::api::object,double,double,double,double)\n",
      " |  \n",
      " |  __len__(...)\n",
      " |      __len__() -> int :\n",
      " |      \n",
      " |          C++ signature :\n",
      " |              int __len__()\n",
      " |  \n",
      " |  __mul__(...)\n",
      " |      __mul__( (Quaternion)arg1, (Quaternion)arg2) -> object :\n",
      " |      \n",
      " |          C++ signature :\n",
      " |              _object* __mul__(Eigen::Quaternion<double, 0> {lvalue},Eigen::Quaternion<double, 0>)\n",
      " |      \n",
      " |      __mul__( (Quaternion)arg1, (numpy.ndarray)arg2) -> object :\n",
      " |      \n",
      " |          C++ signature :\n",
      " |              _object* __mul__(Eigen::Quaternion<double, 0> {lvalue},Eigen::Matrix<double, 3, 1, 0, 3, 1>)\n",
      " |  \n",
      " |  __ne__(...)\n",
      " |      __ne__( (Quaternion)arg1, (Quaternion)arg2) -> bool :\n",
      " |      \n",
      " |          C++ signature :\n",
      " |              bool __ne__(Eigen::Quaternion<double, 0>,Eigen::Quaternion<double, 0>)\n",
      " |  \n",
      " |  __reduce__ = <unnamed Boost.Python function>(...)\n",
      " |  \n",
      " |  __repr__(...)\n",
      " |      __repr__( (Quaternion)arg1) -> str :\n",
      " |      \n",
      " |          C++ signature :\n",
      " |              std::__cxx11::basic_string<char, std::char_traits<char>, std::allocator<char> > __repr__(Eigen::Quaternion<double, 0>)\n",
      " |  \n",
      " |  __setitem__(...)\n",
      " |      __setitem__( (Quaternion)arg1, (int)arg2, (float)arg3) -> None :\n",
      " |      \n",
      " |          C++ signature :\n",
      " |              void __setitem__(Eigen::Quaternion<double, 0> {lvalue},int,double)\n",
      " |  \n",
      " |  __str__(...)\n",
      " |      __str__( (Quaternion)arg1) -> str :\n",
      " |      \n",
      " |          C++ signature :\n",
      " |              std::__cxx11::basic_string<char, std::char_traits<char>, std::allocator<char> > __str__(Eigen::Quaternion<double, 0>)\n",
      " |  \n",
      " |  angularDistance(...)\n",
      " |      angularDistance( (Quaternion)arg1, (Quaternion)arg2) -> float :\n",
      " |          Returns the angle (in radian) between two rotations.\n",
      " |      \n",
      " |          C++ signature :\n",
      " |              double angularDistance(Eigen::Quaternion<double, 0> {lvalue},Eigen::QuaternionBase<Eigen::Quaternion<double, 0> >)\n",
      " |  \n",
      " |  assign(...)\n",
      " |      assign( (Quaternion)self, (Quaternion)quat) -> Quaternion :\n",
      " |          Set *this from an quaternion quat and returns a reference to *this.\n",
      " |      \n",
      " |          C++ signature :\n",
      " |              Eigen::Quaternion<double, 0> {lvalue} assign(Eigen::Quaternion<double, 0> {lvalue},Eigen::Quaternion<double, 0>)\n",
      " |      \n",
      " |      assign( (Quaternion)self, (AngleAxis)aa) -> Quaternion :\n",
      " |          Set *this from an angle-axis aa and returns a reference to *this.\n",
      " |      \n",
      " |          C++ signature :\n",
      " |              Eigen::Quaternion<double, 0> {lvalue} assign(Eigen::Quaternion<double, 0> {lvalue},Eigen::AngleAxis<double>)\n",
      " |  \n",
      " |  coeffs(...)\n",
      " |      coeffs( (Quaternion)self) -> object :\n",
      " |          Returns a vector of the coefficients (x,y,z,w)\n",
      " |      \n",
      " |          C++ signature :\n",
      " |              Eigen::Matrix<double, 4, 1, 0, 4, 1> coeffs(Eigen::Quaternion<double, 0> {lvalue})\n",
      " |  \n",
      " |  conjugate(...)\n",
      " |      conjugate( (Quaternion)self) -> Quaternion :\n",
      " |          Returns the conjugated quaternion.\n",
      " |          The conjugate of a quaternion represents the opposite rotation.\n",
      " |      \n",
      " |          C++ signature :\n",
      " |              Eigen::Quaternion<double, 0> conjugate(Eigen::Quaternion<double, 0> {lvalue})\n",
      " |  \n",
      " |  dot(...)\n",
      " |      dot( (Quaternion)self, (Quaternion)other) -> float :\n",
      " |          Returns the dot product of *this with an other Quaternion.\n",
      " |          Geometrically speaking, the dot product of two unit quaternions corresponds to the cosine of half the angle between the two rotations.\n",
      " |      \n",
      " |          C++ signature :\n",
      " |              double dot(Eigen::Quaternion<double, 0> {lvalue},Eigen::QuaternionBase<Eigen::Quaternion<double, 0> >)\n",
      " |  \n",
      " |  inverse(...)\n",
      " |      inverse( (Quaternion)self) -> Quaternion :\n",
      " |          Returns the quaternion describing the inverse rotation.\n",
      " |      \n",
      " |          C++ signature :\n",
      " |              Eigen::Quaternion<double, 0> inverse(Eigen::Quaternion<double, 0> {lvalue})\n",
      " |  \n",
      " |  isApprox(...)\n",
      " |      isApprox( (Quaternion)self, (Quaternion)other [, (float)prec]) -> bool :\n",
      " |          Returns true if *this is approximately equal to other, within the precision determined by prec.\n",
      " |      \n",
      " |          C++ signature :\n",
      " |              bool isApprox(Eigen::Quaternion<double, 0>,Eigen::Quaternion<double, 0> [,double])\n",
      " |  \n",
      " |  matrix(...)\n",
      " |      matrix( (Quaternion)self) -> numpy.ndarray :\n",
      " |          Returns an equivalent 3x3 rotation matrix. Similar to toRotationMatrix.\n",
      " |      \n",
      " |          C++ signature :\n",
      " |              Eigen::Matrix<double, 3, 3, 0, 3, 3> matrix(Eigen::Quaternion<double, 0> {lvalue})\n",
      " |  \n",
      " |  norm(...)\n",
      " |      norm( (Quaternion)self) -> float :\n",
      " |          Returns the norm of the quaternion's coefficients.\n",
      " |      \n",
      " |          C++ signature :\n",
      " |              double norm(Eigen::Quaternion<double, 0> {lvalue})\n",
      " |  \n",
      " |  normalize(...)\n",
      " |      normalize( (Quaternion)self) -> Quaternion :\n",
      " |          Normalizes the quaternion *this.\n",
      " |      \n",
      " |          C++ signature :\n",
      " |              Eigen::Quaternion<double, 0> {lvalue} normalize(Eigen::Quaternion<double, 0> {lvalue})\n",
      " |  \n",
      " |  normalized(...)\n",
      " |      normalized( (Quaternion)self) -> Quaternion :\n",
      " |          Returns a normalized copy of *this.\n",
      " |      \n",
      " |          C++ signature :\n",
      " |              Eigen::Quaternion<double, 0>* normalized(Eigen::Quaternion<double, 0>)\n",
      " |  \n",
      " |  setFromTwoVectors(...)\n",
      " |      setFromTwoVectors( (Quaternion)self, (numpy.ndarray)a, (numpy.ndarray)b) -> Quaternion :\n",
      " |          Set *this to be the quaternion which transforms a into b through a rotation.\n",
      " |      \n",
      " |          C++ signature :\n",
      " |              Eigen::Quaternion<double, 0> {lvalue} setFromTwoVectors(Eigen::Quaternion<double, 0> {lvalue},Eigen::Matrix<double, 3, 1, 0, 3, 1>,Eigen::Matrix<double, 3, 1, 0, 3, 1>)\n",
      " |  \n",
      " |  setIdentity(...)\n",
      " |      setIdentity( (Quaternion)self) -> Quaternion :\n",
      " |          Set *this to the identity rotation.\n",
      " |      \n",
      " |          C++ signature :\n",
      " |              Eigen::Quaternion<double, 0> {lvalue} setIdentity(Eigen::Quaternion<double, 0> {lvalue})\n",
      " |  \n",
      " |  slerp(...)\n",
      " |      slerp( (Quaternion)self, (float)t, (Quaternion)other) -> Quaternion :\n",
      " |          Returns the spherical linear interpolation between the two quaternions *this and other at the parameter t in [0;1].\n",
      " |      \n",
      " |          C++ signature :\n",
      " |              Eigen::Quaternion<double, 0> slerp(Eigen::Quaternion<double, 0>,double,Eigen::Quaternion<double, 0>)\n",
      " |  \n",
      " |  squaredNorm(...)\n",
      " |      squaredNorm( (Quaternion)self) -> float :\n",
      " |          Returns the squared norm of the quaternion's coefficients.\n",
      " |      \n",
      " |          C++ signature :\n",
      " |              double squaredNorm(Eigen::Quaternion<double, 0> {lvalue})\n",
      " |  \n",
      " |  toRotationMatrix(...)\n",
      " |      toRotationMatrix( (Quaternion)arg1) -> numpy.ndarray :\n",
      " |          Returns an equivalent rotation matrix.\n",
      " |      \n",
      " |          C++ signature :\n",
      " |              Eigen::Matrix<double, 3, 3, 0, 3, 3> toRotationMatrix(Eigen::Quaternion<double, 0> {lvalue})\n",
      " |  \n",
      " |  vec(...)\n",
      " |      vec( (Quaternion)self) -> numpy.ndarray :\n",
      " |          Returns a vector expression of the imaginary part (x,y,z).\n",
      " |      \n",
      " |          C++ signature :\n",
      " |              Eigen::Matrix<double, 3, 1, 0, 3, 1> vec(Eigen::Quaternion<double, 0>)\n",
      " |  \n",
      " |  ----------------------------------------------------------------------\n",
      " |  Static methods defined here:\n",
      " |  \n",
      " |  FromTwoVectors(...)\n",
      " |      FromTwoVectors( (numpy.ndarray)a, (numpy.ndarray)b) -> Quaternion :\n",
      " |          Returns the quaternion which transforms a into b through a rotation.\n",
      " |      \n",
      " |          C++ signature :\n",
      " |              Eigen::Quaternion<double, 0>* FromTwoVectors(Eigen::Ref<Eigen::Matrix<double, 3, 1, 0, 3, 1> const, 0, Eigen::InnerStride<1> >,Eigen::Ref<Eigen::Matrix<double, 3, 1, 0, 3, 1> const, 0, Eigen::InnerStride<1> >)\n",
      " |  \n",
      " |  Identity(...)\n",
      " |      Identity() -> Quaternion :\n",
      " |          Returns a quaternion representing an identity rotation.\n",
      " |      \n",
      " |          C++ signature :\n",
      " |              Eigen::Quaternion<double, 0>* Identity()\n",
      " |  \n",
      " |  ----------------------------------------------------------------------\n",
      " |  Data descriptors defined here:\n",
      " |  \n",
      " |  w\n",
      " |      The w coefficient.\n",
      " |  \n",
      " |  x\n",
      " |      The x coefficient.\n",
      " |  \n",
      " |  y\n",
      " |      The y coefficient.\n",
      " |  \n",
      " |  z\n",
      " |      The z coefficient.\n",
      " |  \n",
      " |  ----------------------------------------------------------------------\n",
      " |  Data descriptors inherited from Boost.Python.instance:\n",
      " |  \n",
      " |  __dict__\n",
      " |  \n",
      " |  __weakref__\n",
      " |  \n",
      " |  ----------------------------------------------------------------------\n",
      " |  Data and other attributes inherited from Boost.Python.instance:\n",
      " |  \n",
      " |  __new__ = <built-in method __new__ of Boost.Python.class object>\n",
      " |      T.__new__(S, ...) -> a new object with type S, a subtype of T\n",
      "\n"
     ]
    }
   ],
   "source": [
    "help(eigenpy.Quaternion)"
   ]
  },
  {
   "cell_type": "code",
   "execution_count": 70,
   "metadata": {},
   "outputs": [
    {
     "name": "stdout",
     "output_type": "stream",
     "text": [
      "(x,y,z,w) =   -0.927195     0.37448 -0.00803636  0.00326439\n",
      "\n"
     ]
    }
   ],
   "source": [
    "#(float)w, (float)x, (float)y, (float)z) -> object \n",
    "p = move_group.get_current_pose()\n",
    "q = eigenpy.Quaternion(p.pose.orientation.w,p.pose.orientation.x,p.pose.orientation.y,p.pose.orientation.z)\n",
    "print(q)"
   ]
  },
  {
   "cell_type": "code",
   "execution_count": 71,
   "metadata": {},
   "outputs": [
    {
     "data": {
      "text/plain": [
       "array([[  7.19400609e-01,  -6.94378737e-01,   1.73474284e-02],\n",
       "       [ -6.94483672e-01,  -7.19508463e-01,   3.45470881e-05],\n",
       "       [  1.24576328e-02,  -1.20723590e-02,  -9.99849521e-01]])"
      ]
     },
     "execution_count": 71,
     "metadata": {},
     "output_type": "execute_result"
    }
   ],
   "source": [
    "q.toRotationMatrix()"
   ]
  },
  {
   "cell_type": "code",
   "execution_count": 72,
   "metadata": {},
   "outputs": [],
   "source": [
    "numpy.set_printoptions(precision=3)"
   ]
  },
  {
   "cell_type": "code",
   "execution_count": 73,
   "metadata": {},
   "outputs": [
    {
     "data": {
      "text/plain": [
       "array([[  7.194e-01,  -6.944e-01,   1.735e-02,   3.025e-01],\n",
       "       [ -6.945e-01,  -7.195e-01,   3.455e-05,   5.911e-05],\n",
       "       [  1.246e-02,  -1.207e-02,  -9.998e-01,   4.806e-01],\n",
       "       [  0.000e+00,   0.000e+00,   0.000e+00,   1.000e+00]])"
      ]
     },
     "execution_count": 73,
     "metadata": {},
     "output_type": "execute_result"
    }
   ],
   "source": [
    "T = numpy.hstack([\n",
    "    numpy.vstack([q.toRotationMatrix(),numpy.array([0.,0.,0.])]),\n",
    "    numpy.array([[p.pose.position.x,p.pose.position.y,p.pose.position.z,1]]).T])\n",
    "T"
   ]
  },
  {
   "cell_type": "code",
   "execution_count": 74,
   "metadata": {},
   "outputs": [
    {
     "data": {
      "text/plain": [
       "array([[  3.042e-01],\n",
       "       [  6.256e-05],\n",
       "       [  3.806e-01],\n",
       "       [  1.000e+00]])"
      ]
     },
     "execution_count": 74,
     "metadata": {},
     "output_type": "execute_result"
    }
   ],
   "source": [
    "point = numpy.array([[0.,0.,0.1,1.]]).T\n",
    "numpy.matmul(T, point)"
   ]
  },
  {
   "cell_type": "code",
   "execution_count": 132,
   "metadata": {},
   "outputs": [
    {
     "name": "stdout",
     "output_type": "stream",
     "text": [
      "header: \n",
      "  seq: 0\n",
      "  stamp: \n",
      "    secs: 1681336968\n",
      "    nsecs: 903101921\n",
      "  frame_id: \"panda_link0\"\n",
      "pose: \n",
      "  position: \n",
      "    x: 0.304263494357\n",
      "    y: 9.8663190748e-08\n",
      "    z: 0.377169635504\n",
      "  orientation: \n",
      "    x: 0.9999233286\n",
      "    y: 0.00881990980121\n",
      "    z: 0.00869118287495\n",
      "    w: 9.72281138225e-05\n",
      "q (x,y,z,w) =    0.999923  0.00881991  0.00869118 9.72281e-05\n",
      "\n",
      "q_rev\n",
      " (x,y,z,w) =   -0.999923 -0.00881991 -0.00869118 9.72281e-05\n",
      "\n",
      "R_T_G\n",
      " [[  9.997e-01   1.764e-02   1.738e-02   3.043e-01]\n",
      " [  1.764e-02  -9.998e-01  -4.113e-05   9.866e-08]\n",
      " [  1.738e-02   3.478e-04  -9.998e-01   3.772e-01]\n",
      " [  0.000e+00   0.000e+00   0.000e+00   1.000e+00]]\n",
      "T_offset\n",
      " [[ 1.   0.   0.   0.1]\n",
      " [ 0.   1.   0.   0. ]\n",
      " [ 0.   0.   1.   0. ]\n",
      " [ 0.   0.   0.   1. ]]\n",
      "R_T_G_new\n",
      " [[  9.997e-01   1.764e-02   1.738e-02   4.042e-01]\n",
      " [  1.764e-02  -9.998e-01  -4.113e-05   1.764e-03]\n",
      " [  1.738e-02   3.478e-04  -9.998e-01   3.789e-01]\n",
      " [  0.000e+00   0.000e+00   0.000e+00   1.000e+00]]\n",
      "[[  9.997e-01   1.764e-02   1.738e-02]\n",
      " [  1.764e-02  -9.998e-01  -4.113e-05]\n",
      " [  1.738e-02   3.478e-04  -9.998e-01]]\n",
      "q_new (x,y,z,w) =   -0.999923 -0.00881991 -0.00869118 9.72281e-05\n",
      "\n"
     ]
    }
   ],
   "source": [
    "move_group.set_end_effector_link(\"panda_hand_tcp\")\n",
    "import eigenpy\n",
    "import numpy\n",
    "p = move_group.get_current_pose()\n",
    "print(p)\n",
    "q = eigenpy.Quaternion(p.pose.orientation.w,p.pose.orientation.x,p.pose.orientation.y,p.pose.orientation.z)\n",
    "print(\"q\",q)\n",
    "print(\"q_rev\\n\",eigenpy.Quaternion(q.toRotationMatrix()).inverse())\n",
    "R_T_G = numpy.hstack([\n",
    "    numpy.vstack([q.toRotationMatrix(),numpy.array([0.,0.,0.])]),\n",
    "    numpy.array([[p.pose.position.x,p.pose.position.y,p.pose.position.z,1]]).T])\n",
    "print(\"R_T_G\\n\",R_T_G)\n",
    "axis = numpy.array([[0.,0.,1.]])\n",
    "aa = eigenpy.AngleAxis(0.0,axis.T)\n",
    "T_offset = numpy.hstack([\n",
    "    numpy.vstack([aa.toRotationMatrix(),numpy.array([0.,0.,0.])]),\n",
    "    numpy.array([[0.1,0.,0.,1]]).T])\n",
    "print(\"T_offset\\n\",T_offset)\n",
    "R_T_G_new = numpy.matmul(R_T_G,T_offset)\n",
    "print(\"R_T_G_new\\n\",R_T_G_new)\n",
    "print(R_T_G_new[0:3,0:3])\n",
    "q_new = eigenpy.Quaternion(R_T_G_new[0:3,0:3]).inverse() # WTF why inverse!\n",
    "print(\"q_new\",q_new)"
   ]
  },
  {
   "cell_type": "code",
   "execution_count": 133,
   "metadata": {},
   "outputs": [
    {
     "data": {
      "text/plain": [
       "header: \n",
       "  seq: 0\n",
       "  stamp: \n",
       "    secs: 1681336969\n",
       "    nsecs: 402893066\n",
       "  frame_id: \"panda_link0\"\n",
       "pose: \n",
       "  position: \n",
       "    x: 0.304262988834\n",
       "    y: 1.12171624127e-06\n",
       "    z: 0.377168838321\n",
       "  orientation: \n",
       "    x: 0.999923311505\n",
       "    y: 0.00882339519645\n",
       "    z: 0.00868960869783\n",
       "    w: 9.75022088537e-05"
      ]
     },
     "execution_count": 133,
     "metadata": {},
     "output_type": "execute_result"
    }
   ],
   "source": [
    "move_group.get_current_pose()"
   ]
  },
  {
   "cell_type": "code",
   "execution_count": 134,
   "metadata": {},
   "outputs": [
    {
     "name": "stdout",
     "output_type": "stream",
     "text": [
      "[position: \n",
      "  x: 0.404232828863\n",
      "  y: 0.00176411438193\n",
      "  z: 0.378907567298\n",
      "orientation: \n",
      "  x: -0.9999233286\n",
      "  y: -0.00881990980121\n",
      "  z: -0.00869118287495\n",
      "  w: 9.72281138225e-05]\n"
     ]
    },
    {
     "data": {
      "text/plain": [
       "True"
      ]
     },
     "execution_count": 134,
     "metadata": {},
     "output_type": "execute_result"
    }
   ],
   "source": [
    "waypoints = []\n",
    "\n",
    "wpose = move_group.get_current_pose().pose\n",
    "#print(wpose)\n",
    "#print(wpose.position)\n",
    "wpose.position.x = R_T_G_new[0,3]\n",
    "wpose.position.y = R_T_G_new[1,3]\n",
    "wpose.position.z = R_T_G_new[2,3]\n",
    "#print(wpose.position)\n",
    "\n",
    "#print(wpose.orientation)\n",
    "\n",
    "wpose.orientation.x = q_new.x\n",
    "wpose.orientation.y = q_new.y\n",
    "wpose.orientation.z = q_new.z\n",
    "wpose.orientation.w = q_new.w\n",
    "#print(wpose.orientation)\n",
    "waypoints.append(copy.deepcopy(wpose))\n",
    "print(waypoints)\n",
    "(plan, fraction) = move_group.compute_cartesian_path(\n",
    "    waypoints, 0.01, 0.0  # waypoints to follow  # eef_step\n",
    ")  # jump_threshold\n",
    "\n",
    "# Note: We are just planning, not asking move_group to actually move the robot yet:\n",
    "\n",
    "new_plan=move_group.retime_trajectory(move_group.get_current_state(),\n",
    "                             plan,velocity_scaling_factor=0.1,\n",
    "                             acceleration_scaling_factor=0.1)\n",
    "\n",
    "display_trajectory = moveit_msgs.msg.DisplayTrajectory()\n",
    "display_trajectory.trajectory_start = robot.get_current_state()\n",
    "display_trajectory.trajectory.append(new_plan)\n",
    "# Publish\n",
    "display_trajectory_publisher.publish(display_trajectory)\n",
    "\n",
    "move_group.execute(new_plan, wait=True)"
   ]
  },
  {
   "cell_type": "code",
   "execution_count": 123,
   "metadata": {},
   "outputs": [
    {
     "name": "stdout",
     "output_type": "stream",
     "text": [
      "================== Hands gripped to 0.02\n",
      "================== Reset to home position\n"
     ]
    }
   ],
   "source": [
    "reset()"
   ]
  },
  {
   "cell_type": "code",
   "execution_count": 126,
   "metadata": {},
   "outputs": [
    {
     "name": "stdout",
     "output_type": "stream",
     "text": [
      "Help on method compute_cartesian_path in module moveit_commander.move_group:\n",
      "\n",
      "compute_cartesian_path(self, waypoints, eef_step, jump_threshold, avoid_collisions=True, path_constraints=None) method of moveit_commander.move_group.MoveGroupCommander instance\n",
      "    Compute a sequence of waypoints that make the end-effector move in straight line segments that follow the poses specified as waypoints. Configurations are computed for every eef_step meters; The jump_threshold specifies the maximum distance in configuration space between consecutive points in the resultingpath; Kinematic constraints for the path given by path_constraints will be met for every point along the trajectory, if they are not met, a partial solution will be returned. The return value is a tuple: a fraction of how much of the path was followed, the actual RobotTrajectory.\n",
      "\n"
     ]
    }
   ],
   "source": []
  },
  {
   "cell_type": "code",
   "execution_count": null,
   "metadata": {},
   "outputs": [],
   "source": []
  }
 ],
 "metadata": {
  "kernelspec": {
   "display_name": "Python 3",
   "language": "python",
   "name": "python3"
  },
  "language_info": {
   "codemirror_mode": {
    "name": "ipython",
    "version": 3
   },
   "file_extension": ".py",
   "mimetype": "text/x-python",
   "name": "python",
   "nbconvert_exporter": "python",
   "pygments_lexer": "ipython3",
   "version": "3.8.10"
  }
 },
 "nbformat": 4,
 "nbformat_minor": 4
}
